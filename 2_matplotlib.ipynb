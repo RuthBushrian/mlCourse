{
 "cells": [
  {
   "cell_type": "markdown",
   "metadata": {
    "id": "5y47ebpSQCcO"
   },
   "source": [
    "# Matplotlib: Visualization with Python"
   ]
  },
  {
   "cell_type": "markdown",
   "metadata": {
    "id": "V4B4eWWL02He"
   },
   "source": [
    "## import matplotlib\n",
    "\n",
    "Import the *pyplot* package by calling\n",
    "```\n",
    "import matplotlib.pyplot as plt\n",
    "```\n",
    "Next, we would like to tell the notebook that we want our plots displayed inline, rather than in a separate viewing window"
   ]
  },
  {
   "cell_type": "code",
   "execution_count": null,
   "metadata": {
    "id": "1rOZp-TCQCcP"
   },
   "outputs": [],
   "source": []
  },
  {
   "cell_type": "markdown",
   "metadata": {
    "id": "_sPlmjB2QCcR"
   },
   "source": [
    "## Our first plot\n",
    "\n",
    "Let's plot the simple parabola\n",
    "$$\n",
    "f(x)=x^2\n",
    "$$"
   ]
  },
  {
   "cell_type": "code",
   "execution_count": null,
   "metadata": {
    "colab": {
     "base_uri": "https://localhost:8080/",
     "height": 312
    },
    "id": "HarNL4PR02Hm",
    "outputId": "95772fbe-640c-4b23-b288-3981747a6e90"
   },
   "outputs": [],
   "source": []
  },
  {
   "cell_type": "markdown",
   "metadata": {
    "id": "KObJRdmaQCcc"
   },
   "source": [
    "## Anatomy of a \"Plot\"\n",
    "\n",
    "People use \"plot\" to mean many different things. Here, we'll be using a consistent terminology (mirrored by the names of the underlying classes, etc):\n",
    "\n",
    "![](./images/figure_anatomy_objects.png)\n",
    "\n",
    "\n",
    "### Figures\n",
    "\n",
    "If we want to control properties of the figure, we can explicitly create it with **plt.figure**. For example, we can control the size of the figure through the `figsize` argument, which expects a tuple of **(width, height)**."
   ]
  },
  {
   "cell_type": "markdown",
   "metadata": {
    "id": "th8z-ITO02Hr"
   },
   "source": [
    "### Axes\n",
    "\n",
    "We've mentioned before that a figure can have more than one `Axes` on it. \n",
    "\n",
    "There are few possibility to add `Axes` to the `Figure` we created. First one is the most flexible one allows to add `Axes` into the given position in the `Figure`:\n"
   ]
  },
  {
   "cell_type": "markdown",
   "metadata": {
    "id": "ZqfR7bCMQCcd"
   },
   "source": [
    "### Multiple Axes in the grid structure\n",
    "\n",
    "If you want your axes to be on a regular grid system, then it's easiest to use `plt.subplots(...)` to create a figure and add the axes to it automatically.\n",
    "\n",
    "For example:"
   ]
  },
  {
   "cell_type": "code",
   "execution_count": null,
   "metadata": {
    "colab": {
     "base_uri": "https://localhost:8080/",
     "height": 313
    },
    "id": "xr71pR6_QCce",
    "outputId": "e2a77e9e-9199-4914-837c-2a8d081eb85f"
   },
   "outputs": [],
   "source": [
    "\n"
   ]
  },
  {
   "cell_type": "markdown",
   "metadata": {
    "id": "mGFK5VhRkZnJ"
   },
   "source": [
    "### Legends\n",
    "\n",
    "If we have a few lines at the same graph it's very convenient to use a `Legend` - a short description of each line. \n",
    "\n",
    "Note that we used different colors for two different graphs to distinguish between them\n"
   ]
  },
  {
   "cell_type": "code",
   "execution_count": null,
   "metadata": {
    "colab": {
     "base_uri": "https://localhost:8080/",
     "height": 282
    },
    "id": "iP8r8_I1koiR",
    "outputId": "77295aa2-5415-4c89-d569-971e0db4cbc8"
   },
   "outputs": [],
   "source": []
  },
  {
   "cell_type": "markdown",
   "metadata": {},
   "source": [
    "some options: color='b', ls='-', lw='1', marker='.', markersize='10', etc."
   ]
  },
  {
   "cell_type": "markdown",
   "metadata": {
    "id": "iFpFsi8DCGMp"
   },
   "source": [
    "## Basic plotting functions\n",
    "\n",
    "In this section we will cover the basic plotting types\n",
    "* Plot\n",
    "* Scatter\n",
    "* Hist\n",
    "\n"
   ]
  },
  {
   "cell_type": "markdown",
   "metadata": {
    "id": "4gGXYqD3hGVb"
   },
   "source": [
    "### Scatter plots\n",
    "\n",
    "A scatter plot is a type of data visualization that is used to show the relationship between two variables. Scatter plots are used in data science and statistics to show the distribution of data points, and they can be used to identify trends and patterns. Scatter plots are a type of graph that shows the scatter plot for data points. These plots are created by using a set of X and Y-axis values. The X-axis can be used to represent one of the independent variables, while the Y-axis can be used to represent the other independent variables or dependent variable. "
   ]
  },
  {
   "cell_type": "code",
   "execution_count": null,
   "metadata": {},
   "outputs": [],
   "source": []
  },
  {
   "cell_type": "code",
   "execution_count": null,
   "metadata": {
    "colab": {
     "base_uri": "https://localhost:8080/",
     "height": 407
    },
    "id": "kcFGg2dNsaxS",
    "outputId": "203d351e-1d14-4d0c-8f07-9658608156cf"
   },
   "outputs": [],
   "source": []
  },
  {
   "cell_type": "markdown",
   "metadata": {
    "id": "4DWUbQBphQJ2"
   },
   "source": [
    "### Hist plots\n",
    "\n",
    "Hist plots are usefull way to visualize the quantities of the different types of data or plottin the hystograms. \n"
   ]
  },
  {
   "cell_type": "code",
   "execution_count": null,
   "metadata": {},
   "outputs": [],
   "source": [
    "x = [1,2,1,5,1,2,3,4,3,4,2]\n",
    "y = [1,5,5,1,2,3,4,4,5,4,2]\n",
    "z = [1,3,3,5,1,2,3,4,3,4,2]"
   ]
  },
  {
   "cell_type": "code",
   "execution_count": null,
   "metadata": {
    "colab": {
     "base_uri": "https://localhost:8080/",
     "height": 385
    },
    "id": "7l-E47PpCD4J",
    "outputId": "0838c205-ed3d-4833-a25e-fbc0cd3f29b5"
   },
   "outputs": [],
   "source": []
  }
 ],
 "metadata": {
  "colab": {
   "provenance": [],
   "toc_visible": true
  },
  "kernelspec": {
   "display_name": "Python 3 (ipykernel)",
   "language": "python",
   "name": "python3"
  },
  "language_info": {
   "codemirror_mode": {
    "name": "ipython",
    "version": 3
   },
   "file_extension": ".py",
   "mimetype": "text/x-python",
   "name": "python",
   "nbconvert_exporter": "python",
   "pygments_lexer": "ipython3",
   "version": "3.7.4"
  }
 },
 "nbformat": 4,
 "nbformat_minor": 1
}

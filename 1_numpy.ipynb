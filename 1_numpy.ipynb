{
 "cells": [
  {
   "cell_type": "markdown",
   "metadata": {
    "id": "sXFSXjxSd6nJ"
   },
   "source": [
    "# Numerical Python: NumPy\n",
    "\n",
    "NumPy NumPy is the fundamental package for scientific computing in Python. It is a Python library that provides a multidimensional array object, various derived objects (such as masked arrays and matrices), and an assortment of routines for fast operations on arrays, including mathematical, logical, shape manipulation, sorting, selecting, I/O, discrete Fourier transforms, basic linear algebra, basic statistical operations, random simulation and much more."
   ]
  },
  {
   "cell_type": "markdown",
   "metadata": {
    "id": "FYw7XlJGd6nK"
   },
   "source": [
    "# Importing NumPy"
   ]
  },
  {
   "cell_type": "code",
   "execution_count": null,
   "metadata": {
    "id": "XVwxQDKsd6nM"
   },
   "outputs": [],
   "source": []
  },
  {
   "cell_type": "markdown",
   "metadata": {
    "id": "XxaUzfydd6nO"
   },
   "source": [
    "#### __NumPy’s main object is the _homogeneous_ multidimensional array.__\n",
    "\n",
    "Dimensions are called axes. \n",
    "\n",
    "* A vector is an array of one dimension\n",
    "* A 2D matrix is an array with two dimensions."
   ]
  },
  {
   "cell_type": "markdown",
   "metadata": {
    "id": "PRmoUBn9d6nj"
   },
   "source": [
    "## __Creating arrays__"
   ]
  },
  {
   "cell_type": "code",
   "execution_count": null,
   "metadata": {
    "id": "af3TtEXwd6nk"
   },
   "outputs": [],
   "source": []
  },
  {
   "cell_type": "markdown",
   "metadata": {
    "id": "HCgE8NdQd6nl"
   },
   "source": [
    "### 2D array\n",
    "We can create a 2D array from nested lists - make sure that all nested lists have the same length."
   ]
  },
  {
   "cell_type": "code",
   "execution_count": null,
   "metadata": {
    "id": "FxcxAGgMd6nl"
   },
   "outputs": [],
   "source": []
  },
  {
   "cell_type": "markdown",
   "metadata": {},
   "source": [
    "### 3D array"
   ]
  },
  {
   "cell_type": "code",
   "execution_count": null,
   "metadata": {
    "id": "P8uYuyIcd6nl"
   },
   "outputs": [],
   "source": []
  },
  {
   "cell_type": "markdown",
   "metadata": {
    "id": "hUoDNMFzd6nl"
   },
   "source": [
    "Arrays are N-dimensional, so you can specify how many dimensions that you would like:"
   ]
  },
  {
   "cell_type": "markdown",
   "metadata": {
    "id": "q19bosqhd6nm"
   },
   "source": [
    "### dim & shape\n",
    "Check the number of dimensions and the shape:"
   ]
  },
  {
   "cell_type": "code",
   "execution_count": null,
   "metadata": {
    "id": "71D_f52Jd6nm"
   },
   "outputs": [],
   "source": []
  },
  {
   "cell_type": "markdown",
   "metadata": {},
   "source": [
    "### reshape\n",
    "we can reshape an array to new shape"
   ]
  },
  {
   "cell_type": "code",
   "execution_count": null,
   "metadata": {},
   "outputs": [],
   "source": []
  },
  {
   "cell_type": "markdown",
   "metadata": {},
   "source": [
    "note that the total elements have to be the same"
   ]
  },
  {
   "cell_type": "code",
   "execution_count": null,
   "metadata": {},
   "outputs": [],
   "source": []
  },
  {
   "cell_type": "markdown",
   "metadata": {
    "id": "cyzUHC41d6nm"
   },
   "source": [
    "## __Sequence of numbers:__\n",
    "\n",
    "#### np.arange & np.linspace\n",
    "\n",
    "Use `np.arange`, whish is similar to `range`, but also accepts `float`s:"
   ]
  },
  {
   "cell_type": "code",
   "execution_count": null,
   "metadata": {
    "id": "2q3tDyAmd6nm"
   },
   "outputs": [],
   "source": []
  },
  {
   "cell_type": "markdown",
   "metadata": {
    "id": "9dUy8KcJd6nn"
   },
   "source": [
    "`np.linspace` is similar, but it accepts the required number of points rather than the required step."
   ]
  },
  {
   "cell_type": "code",
   "execution_count": null,
   "metadata": {
    "id": "O8dQl5ZTd6nn"
   },
   "outputs": [],
   "source": []
  },
  {
   "cell_type": "markdown",
   "metadata": {
    "id": "xQ_9Zl7Vd6nn"
   },
   "source": [
    "__Initializing an array with zeros / ones:__"
   ]
  },
  {
   "cell_type": "code",
   "execution_count": null,
   "metadata": {
    "id": "aSrw7FGRd6nn"
   },
   "outputs": [],
   "source": []
  },
  {
   "cell_type": "markdown",
   "metadata": {},
   "source": [
    "__creates a diagonal matrix from a given array:__"
   ]
  },
  {
   "cell_type": "code",
   "execution_count": null,
   "metadata": {},
   "outputs": [],
   "source": []
  },
  {
   "cell_type": "markdown",
   "metadata": {},
   "source": [
    "__creates the identity metrics:__"
   ]
  },
  {
   "cell_type": "code",
   "execution_count": null,
   "metadata": {},
   "outputs": [],
   "source": []
  },
  {
   "cell_type": "markdown",
   "metadata": {},
   "source": [
    "__Initializing an array with random numbers:__"
   ]
  },
  {
   "cell_type": "code",
   "execution_count": null,
   "metadata": {},
   "outputs": [],
   "source": []
  },
  {
   "cell_type": "markdown",
   "metadata": {
    "id": "DQfAqukKd6nn"
   },
   "source": [
    "## __Operations__\n",
    "\n",
    "We can also perform common arithmetic operations on arrays: add, subtract, multiply, divide, etc.\n",
    "\n",
    "When you perform these operations on arrays, the operation is done on each individual element of the array, i.e. elementwise.\n",
    "\n",
    "A new array is created and filled with the result."
   ]
  },
  {
   "cell_type": "code",
   "execution_count": null,
   "metadata": {
    "id": "Z4VVRZPWd6no"
   },
   "outputs": [],
   "source": []
  },
  {
   "cell_type": "markdown",
   "metadata": {
    "id": "3Uhop1Xid6no"
   },
   "source": [
    "Some more examples:"
   ]
  },
  {
   "cell_type": "code",
   "execution_count": null,
   "metadata": {
    "id": "d3fMTbyhd6no"
   },
   "outputs": [],
   "source": []
  },
  {
   "cell_type": "code",
   "execution_count": null,
   "metadata": {
    "id": "vahsCdzDd6no"
   },
   "outputs": [],
   "source": []
  },
  {
   "cell_type": "markdown",
   "metadata": {
    "id": "kjggWNCrd6np"
   },
   "source": [
    "Note that the shapes of the arrays must be suitable:"
   ]
  },
  {
   "cell_type": "code",
   "execution_count": null,
   "metadata": {
    "id": "fHGf0s5Cd6np"
   },
   "outputs": [],
   "source": []
  },
  {
   "cell_type": "markdown",
   "metadata": {
    "id": "K9nC0_Lxd6np"
   },
   "source": [
    "In order to apply matrix multiplication (as in linear algebra, and not elementwise), we can use the `dot` method:"
   ]
  },
  {
   "cell_type": "code",
   "execution_count": null,
   "metadata": {
    "id": "WpYl5uyed6np"
   },
   "outputs": [],
   "source": []
  },
  {
   "cell_type": "markdown",
   "metadata": {
    "id": "dNfaID5-d6nr"
   },
   "source": [
    "## __Descriptive statistics__\n",
    "\n",
    "Often, we want to do more than add, subtract, multiply, and divide values of data. \n",
    "We can also do descriptive statistics on arrays. such as mean, maximum, nimimum and std."
   ]
  },
  {
   "cell_type": "code",
   "execution_count": null,
   "metadata": {},
   "outputs": [],
   "source": []
  },
  {
   "cell_type": "markdown",
   "metadata": {
    "id": "Orhv4Em9d6ns"
   },
   "source": [
    "What if we need the maximum inflammation for all patients, or the average for each day? As the diagram below shows, we want to perform the operation across an axis:\n",
    "![axis example](./images/python-operations-across-axes.png)\n",
    "To support this, most array methods allow us to specify the axis we want to work on.\n",
    "If we ask for the average across axis 0, we get:"
   ]
  },
  {
   "cell_type": "code",
   "execution_count": null,
   "metadata": {
    "id": "_FLh6C59d6ns"
   },
   "outputs": [],
   "source": []
  },
  {
   "cell_type": "markdown",
   "metadata": {
    "id": "ObANr7YUd6n3"
   },
   "source": [
    "## Indexing and slicing\n",
    "\n",
    "Indexing and slicing on 1D arrays is similar to Python lists:"
   ]
  },
  {
   "cell_type": "code",
   "execution_count": null,
   "metadata": {
    "id": "tkxFUA38d6n3"
   },
   "outputs": [],
   "source": []
  },
  {
   "cell_type": "markdown",
   "metadata": {
    "id": "_BHpQ2Wvd6n3"
   },
   "source": [
    "Similarly to lists, values in an array can be mutated.\n",
    "\n",
    "BUT, the size of the array cannot."
   ]
  },
  {
   "cell_type": "code",
   "execution_count": null,
   "metadata": {
    "id": "jsG54c_Gd6n3"
   },
   "outputs": [],
   "source": []
  },
  {
   "cell_type": "markdown",
   "metadata": {
    "id": "wbr5H155d6n3"
   },
   "source": [
    "#### However, inconsistent with lists, array slicing returns a **view** rather then a copy, so **changing a slices changes the original array**:"
   ]
  },
  {
   "cell_type": "code",
   "execution_count": null,
   "metadata": {
    "id": "1BjQkZI8d6n4"
   },
   "outputs": [],
   "source": []
  },
  {
   "cell_type": "markdown",
   "metadata": {
    "id": "hNFgyAlHd6n4"
   },
   "source": [
    "This is useful if you want to save space and the CPU required by copying arrays, but it can also be dangerous.\n",
    "If you explicitly want a **copy** rather than a **view**, call the `copy` method."
   ]
  },
  {
   "cell_type": "code",
   "execution_count": null,
   "metadata": {
    "id": "zqPYS9e9d6n4"
   },
   "outputs": [],
   "source": []
  },
  {
   "cell_type": "markdown",
   "metadata": {
    "id": "6LYf3IlId6n4"
   },
   "source": [
    "Arrays support multidimensional indexing and slicing:"
   ]
  },
  {
   "cell_type": "code",
   "execution_count": null,
   "metadata": {
    "id": "Pf6-M5Xxd6n4"
   },
   "outputs": [],
   "source": []
  },
  {
   "cell_type": "code",
   "execution_count": null,
   "metadata": {
    "id": "HBVlpIQ0d6n5"
   },
   "outputs": [],
   "source": []
  }
 ],
 "metadata": {
  "colab": {
   "provenance": []
  },
  "kernelspec": {
   "display_name": "Python 3 (ipykernel)",
   "language": "python",
   "name": "python3"
  },
  "language_info": {
   "codemirror_mode": {
    "name": "ipython",
    "version": 3
   },
   "file_extension": ".py",
   "mimetype": "text/x-python",
   "name": "python",
   "nbconvert_exporter": "python",
   "pygments_lexer": "ipython3",
   "version": "3.7.4"
  }
 },
 "nbformat": 4,
 "nbformat_minor": 1
}

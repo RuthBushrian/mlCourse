{
 "cells": [
  {
   "cell_type": "markdown",
   "metadata": {
    "id": "O2p_wYeupN6v"
   },
   "source": [
    "# Pandas: Data Analysis\n"
   ]
  },
  {
   "cell_type": "markdown",
   "metadata": {
    "id": "MErR2gr7pN61"
   },
   "source": [
    "__Pandas__ is a very strong library for manipulating large and complex datasets. pandas is a Python package providing fast, flexible, and expressive data structures designed to make working with “relational” or “labeled” data both easy and intuitive. It aims to be the fundamental high-level building block for doing practical, real-world data analysis in Python\n",
    "\n",
    "The two primary data structures of pandas:\n",
    "- *Series* is a 1D labeled homogeneously-typed array\n",
    "- *DataFrame* is a general 2D labeled, size-mutable tabular structure with potentially heterogeneously-typed column\n",
    "\n",
    "Pandas *DataFrame* structure addresses three deficiencies of NumPy arrays:\n",
    "\n",
    "- **Strings and Numbers in one table**: *DataFrame* hold heterogenous data; each column can have its own numpy.dtype\n",
    "- **Columns names & Row indices**: the axes of a data frame are labeled with column names and row indices\n",
    "- **Missing values**: they account for missing values which this is not directly supported by arrays\n",
    "\n",
    "*DataFrame* are extremely useful for data manipulation. They provide a large range of operations such as filter, join, and group-by aggregation, as well as plotting.\n"
   ]
  },
  {
   "cell_type": "markdown",
   "metadata": {
    "id": "C1HBWQT4uyIi"
   },
   "source": [
    "## Import pandas\n",
    "\n",
    "Import the *pandas* module by calling\n",
    "```\n",
    "import pandas as pd\n",
    "```"
   ]
  },
  {
   "cell_type": "code",
   "execution_count": 17,
   "metadata": {
    "colab": {
     "base_uri": "https://localhost:8080/"
    },
    "id": "gkYEbVRDpN62",
    "outputId": "82b70aec-a8df-4dd8-e4da-dd6e4b8b18c2"
   },
   "outputs": [],
   "source": [
    "import pandas as pd"
   ]
  },
  {
   "cell_type": "markdown",
   "metadata": {
    "id": "ud5GAZT-rFq8"
   },
   "source": [
    "The following code loads the data into pandas DataFrame and uses the function *head()* to display the first 5 rows of the table "
   ]
  },
  {
   "cell_type": "code",
   "execution_count": 18,
   "metadata": {
    "id": "VCOE0BFQrFq-",
    "outputId": "6e723c4d-9e79-42d3-f068-3f895686142b"
   },
   "outputs": [
    {
     "data": {
      "text/html": [
       "<div>\n",
       "<style scoped>\n",
       "    .dataframe tbody tr th:only-of-type {\n",
       "        vertical-align: middle;\n",
       "    }\n",
       "\n",
       "    .dataframe tbody tr th {\n",
       "        vertical-align: top;\n",
       "    }\n",
       "\n",
       "    .dataframe thead th {\n",
       "        text-align: right;\n",
       "    }\n",
       "</style>\n",
       "<table border=\"1\" class=\"dataframe\">\n",
       "  <thead>\n",
       "    <tr style=\"text-align: right;\">\n",
       "      <th></th>\n",
       "      <th>Year</th>\n",
       "      <th>Country</th>\n",
       "      <th>Spending_USD</th>\n",
       "      <th>Life_Expectancy</th>\n",
       "    </tr>\n",
       "  </thead>\n",
       "  <tbody>\n",
       "    <tr>\n",
       "      <th>0</th>\n",
       "      <td>1970</td>\n",
       "      <td>Germany</td>\n",
       "      <td>252.311</td>\n",
       "      <td>70.6</td>\n",
       "    </tr>\n",
       "    <tr>\n",
       "      <th>1</th>\n",
       "      <td>1970</td>\n",
       "      <td>France</td>\n",
       "      <td>192.143</td>\n",
       "      <td>72.2</td>\n",
       "    </tr>\n",
       "    <tr>\n",
       "      <th>2</th>\n",
       "      <td>1970</td>\n",
       "      <td>Great Britain</td>\n",
       "      <td>NaN</td>\n",
       "      <td>71.9</td>\n",
       "    </tr>\n",
       "    <tr>\n",
       "      <th>3</th>\n",
       "      <td>1970</td>\n",
       "      <td>Japan</td>\n",
       "      <td>150.437</td>\n",
       "      <td>72.0</td>\n",
       "    </tr>\n",
       "  </tbody>\n",
       "</table>\n",
       "</div>"
      ],
      "text/plain": [
       "   Year        Country  Spending_USD  Life_Expectancy\n",
       "0  1970        Germany       252.311             70.6\n",
       "1  1970         France       192.143             72.2\n",
       "2  1970  Great Britain           NaN             71.9\n",
       "3  1970          Japan       150.437             72.0"
      ]
     },
     "execution_count": 18,
     "metadata": {},
     "output_type": "execute_result"
    }
   ],
   "source": [
    "df = pd.read_csv('./data/healthexp.csv')\n",
    "df.head(4)"
   ]
  },
  {
   "cell_type": "markdown",
   "metadata": {
    "id": "tzskaLCLrFq_"
   },
   "source": [
    "The attribute *shape* provides the information about the size of the object"
   ]
  },
  {
   "cell_type": "code",
   "execution_count": 19,
   "metadata": {
    "id": "-QN5NwlyrFq_",
    "outputId": "9ec33911-b1f1-4a9b-902d-6b30ff082bb9"
   },
   "outputs": [
    {
     "data": {
      "text/plain": [
       "(274, 4)"
      ]
     },
     "execution_count": 19,
     "metadata": {},
     "output_type": "execute_result"
    }
   ],
   "source": [
    "df.shape"
   ]
  },
  {
   "cell_type": "markdown",
   "metadata": {
    "id": "T1q3wH24rFrA"
   },
   "source": [
    "In this example we see the ability of DataFrame to hold data of different types. To get the first impression of the data, we can use the following call"
   ]
  },
  {
   "cell_type": "code",
   "execution_count": 20,
   "metadata": {
    "id": "wnoIarmFrFrA",
    "outputId": "c92c250f-a702-4c09-9267-ad8018a4d129"
   },
   "outputs": [
    {
     "name": "stdout",
     "output_type": "stream",
     "text": [
      "<class 'pandas.core.frame.DataFrame'>\n",
      "RangeIndex: 274 entries, 0 to 273\n",
      "Data columns (total 4 columns):\n",
      " #   Column           Non-Null Count  Dtype  \n",
      "---  ------           --------------  -----  \n",
      " 0   Year             274 non-null    int64  \n",
      " 1   Country          274 non-null    object \n",
      " 2   Spending_USD     271 non-null    float64\n",
      " 3   Life_Expectancy  271 non-null    float64\n",
      "dtypes: float64(2), int64(1), object(1)\n",
      "memory usage: 8.7+ KB\n"
     ]
    }
   ],
   "source": [
    "df.info()"
   ]
  },
  {
   "cell_type": "markdown",
   "metadata": {},
   "source": [
    "`df.describe()` computes various summary statistics of the DataFrame"
   ]
  },
  {
   "cell_type": "code",
   "execution_count": 21,
   "metadata": {},
   "outputs": [
    {
     "data": {
      "text/html": [
       "<div>\n",
       "<style scoped>\n",
       "    .dataframe tbody tr th:only-of-type {\n",
       "        vertical-align: middle;\n",
       "    }\n",
       "\n",
       "    .dataframe tbody tr th {\n",
       "        vertical-align: top;\n",
       "    }\n",
       "\n",
       "    .dataframe thead th {\n",
       "        text-align: right;\n",
       "    }\n",
       "</style>\n",
       "<table border=\"1\" class=\"dataframe\">\n",
       "  <thead>\n",
       "    <tr style=\"text-align: right;\">\n",
       "      <th></th>\n",
       "      <th>Year</th>\n",
       "      <th>Spending_USD</th>\n",
       "      <th>Life_Expectancy</th>\n",
       "    </tr>\n",
       "  </thead>\n",
       "  <tbody>\n",
       "    <tr>\n",
       "      <th>count</th>\n",
       "      <td>274.000000</td>\n",
       "      <td>271.000000</td>\n",
       "      <td>271.000000</td>\n",
       "    </tr>\n",
       "    <tr>\n",
       "      <th>mean</th>\n",
       "      <td>1996.992701</td>\n",
       "      <td>2797.996672</td>\n",
       "      <td>77.867159</td>\n",
       "    </tr>\n",
       "    <tr>\n",
       "      <th>std</th>\n",
       "      <td>14.180933</td>\n",
       "      <td>2200.958746</td>\n",
       "      <td>3.269159</td>\n",
       "    </tr>\n",
       "    <tr>\n",
       "      <th>min</th>\n",
       "      <td>1970.000000</td>\n",
       "      <td>134.172000</td>\n",
       "      <td>70.600000</td>\n",
       "    </tr>\n",
       "    <tr>\n",
       "      <th>25%</th>\n",
       "      <td>1985.250000</td>\n",
       "      <td>1040.414000</td>\n",
       "      <td>75.500000</td>\n",
       "    </tr>\n",
       "    <tr>\n",
       "      <th>50%</th>\n",
       "      <td>1998.000000</td>\n",
       "      <td>2287.476000</td>\n",
       "      <td>78.100000</td>\n",
       "    </tr>\n",
       "    <tr>\n",
       "      <th>75%</th>\n",
       "      <td>2009.000000</td>\n",
       "      <td>4060.330500</td>\n",
       "      <td>80.500000</td>\n",
       "    </tr>\n",
       "    <tr>\n",
       "      <th>max</th>\n",
       "      <td>2020.000000</td>\n",
       "      <td>11859.179000</td>\n",
       "      <td>84.700000</td>\n",
       "    </tr>\n",
       "  </tbody>\n",
       "</table>\n",
       "</div>"
      ],
      "text/plain": [
       "              Year  Spending_USD  Life_Expectancy\n",
       "count   274.000000    271.000000       271.000000\n",
       "mean   1996.992701   2797.996672        77.867159\n",
       "std      14.180933   2200.958746         3.269159\n",
       "min    1970.000000    134.172000        70.600000\n",
       "25%    1985.250000   1040.414000        75.500000\n",
       "50%    1998.000000   2287.476000        78.100000\n",
       "75%    2009.000000   4060.330500        80.500000\n",
       "max    2020.000000  11859.179000        84.700000"
      ]
     },
     "execution_count": 21,
     "metadata": {},
     "output_type": "execute_result"
    }
   ],
   "source": [
    "df.describe()"
   ]
  },
  {
   "cell_type": "markdown",
   "metadata": {},
   "source": [
    "### fill nulls"
   ]
  },
  {
   "cell_type": "markdown",
   "metadata": {},
   "source": [
    "count the nulls"
   ]
  },
  {
   "cell_type": "code",
   "execution_count": 22,
   "metadata": {},
   "outputs": [
    {
     "data": {
      "text/plain": [
       "Year               0\n",
       "Country            0\n",
       "Spending_USD       3\n",
       "Life_Expectancy    3\n",
       "dtype: int64"
      ]
     },
     "execution_count": 22,
     "metadata": {},
     "output_type": "execute_result"
    }
   ],
   "source": [
    "df.isnull().sum()"
   ]
  },
  {
   "cell_type": "markdown",
   "metadata": {},
   "source": [
    "fill null"
   ]
  },
  {
   "cell_type": "code",
   "execution_count": 26,
   "metadata": {},
   "outputs": [
    {
     "data": {
      "text/plain": [
       "(Year               0\n",
       " Country            0\n",
       " Spending_USD       0\n",
       " Life_Expectancy    0\n",
       " dtype: int64,\n",
       " Year               0\n",
       " Country            0\n",
       " Spending_USD       3\n",
       " Life_Expectancy    3\n",
       " dtype: int64)"
      ]
     },
     "execution_count": 26,
     "metadata": {},
     "output_type": "execute_result"
    }
   ],
   "source": [
    "dfd = df.fillna(0)\n",
    "dfd.isnull().sum(), df.isnull().sum()"
   ]
  },
  {
   "cell_type": "code",
   "execution_count": 28,
   "metadata": {},
   "outputs": [
    {
     "name": "stderr",
     "output_type": "stream",
     "text": [
      "c:\\users\\ruti\\appdata\\local\\programs\\python\\python37\\lib\\site-packages\\ipykernel_launcher.py:1: FutureWarning: Dropping of nuisance columns in DataFrame reductions (with 'numeric_only=None') is deprecated; in a future version this will raise TypeError.  Select only valid columns before calling the reduction.\n",
      "  \"\"\"Entry point for launching an IPython kernel.\n"
     ]
    },
    {
     "data": {
      "text/plain": [
       "Year               1996.992701\n",
       "Spending_USD       2797.996672\n",
       "Life_Expectancy      77.867159\n",
       "dtype: float64"
      ]
     },
     "execution_count": 28,
     "metadata": {},
     "output_type": "execute_result"
    }
   ],
   "source": [
    "df.mean()"
   ]
  },
  {
   "cell_type": "code",
   "execution_count": 32,
   "metadata": {},
   "outputs": [
    {
     "name": "stderr",
     "output_type": "stream",
     "text": [
      "c:\\users\\ruti\\appdata\\local\\programs\\python\\python37\\lib\\site-packages\\ipykernel_launcher.py:1: FutureWarning: Dropping of nuisance columns in DataFrame reductions (with 'numeric_only=None') is deprecated; in a future version this will raise TypeError.  Select only valid columns before calling the reduction.\n",
      "  \"\"\"Entry point for launching an IPython kernel.\n"
     ]
    }
   ],
   "source": [
    "df.fillna(df.mean(), inplace = True)"
   ]
  },
  {
   "cell_type": "code",
   "execution_count": 33,
   "metadata": {},
   "outputs": [
    {
     "data": {
      "text/plain": [
       "Year               0\n",
       "Country            0\n",
       "Spending_USD       0\n",
       "Life_Expectancy    0\n",
       "dtype: int64"
      ]
     },
     "execution_count": 33,
     "metadata": {},
     "output_type": "execute_result"
    }
   ],
   "source": [
    "df.isnull().sum()"
   ]
  },
  {
   "cell_type": "markdown",
   "metadata": {
    "id": "u48OzYITrFrA"
   },
   "source": [
    "## DataFrame object: accessing the data\n",
    "\n",
    "In this section we will learn how to access the columns \n",
    "\n",
    "![](./images/03_subset_columns.svg)\n",
    "\n",
    "rows of the DataFrame\n",
    "\n",
    "![](./images/03_subset_rows.svg)\n",
    "\n",
    "or individual elements\n",
    "\n",
    "![](./images/03_subset_columns_rows.svg)\n"
   ]
  },
  {
   "cell_type": "markdown",
   "metadata": {
    "id": "MFoGaXa_rFrB"
   },
   "source": [
    "### filter columns\n",
    "the columns in the data:"
   ]
  },
  {
   "cell_type": "code",
   "execution_count": 6,
   "metadata": {
    "id": "o_vj6I2rrFrB",
    "outputId": "4652c164-cc78-4214-faaa-7cb71da6e967"
   },
   "outputs": [
    {
     "data": {
      "text/plain": [
       "Index(['Year', 'Country', 'Spending_USD', 'Life_Expectancy'], dtype='object')"
      ]
     },
     "execution_count": 6,
     "metadata": {},
     "output_type": "execute_result"
    }
   ],
   "source": [
    "df.columns"
   ]
  },
  {
   "cell_type": "markdown",
   "metadata": {
    "id": "H0UXxPh-rFrB"
   },
   "source": [
    "Each column is a Series object and we can access it in different ways"
   ]
  },
  {
   "cell_type": "code",
   "execution_count": 7,
   "metadata": {
    "id": "ulPiwpKprFrB",
    "outputId": "26301ac3-f0fa-4512-e4c5-a9b2f859ecf8"
   },
   "outputs": [
    {
     "data": {
      "text/plain": [
       "0            Germany\n",
       "1             France\n",
       "2      Great Britain\n",
       "3              Japan\n",
       "4                USA\n",
       "           ...      \n",
       "269          Germany\n",
       "270           France\n",
       "271    Great Britain\n",
       "272            Japan\n",
       "273              USA\n",
       "Name: Country, Length: 274, dtype: object"
      ]
     },
     "execution_count": 7,
     "metadata": {},
     "output_type": "execute_result"
    }
   ],
   "source": [
    "df.Country"
   ]
  },
  {
   "cell_type": "markdown",
   "metadata": {},
   "source": [
    "we can know the shape of a column"
   ]
  },
  {
   "cell_type": "code",
   "execution_count": 8,
   "metadata": {
    "id": "CAl-9NbgrFrC",
    "outputId": "da66f2c8-e075-4e5c-88f6-0fa615b94cb8"
   },
   "outputs": [
    {
     "data": {
      "text/plain": [
       "(274,)"
      ]
     },
     "execution_count": 8,
     "metadata": {},
     "output_type": "execute_result"
    }
   ],
   "source": [
    "df['Country'].shape"
   ]
  },
  {
   "cell_type": "markdown",
   "metadata": {
    "id": "4XH8d-OwrFrC"
   },
   "source": [
    "We can see only the unique countires included in the Series:\n",
    "    "
   ]
  },
  {
   "cell_type": "code",
   "execution_count": 9,
   "metadata": {
    "id": "rhuNuSJZrFrC",
    "outputId": "1dacc9b6-5521-40c7-9c65-ea2f087bb70c"
   },
   "outputs": [
    {
     "data": {
      "text/plain": [
       "array(['Germany', 'France', 'Great Britain', 'Japan', 'USA', 'Canada'],\n",
       "      dtype=object)"
      ]
     },
     "execution_count": 9,
     "metadata": {},
     "output_type": "execute_result"
    }
   ],
   "source": [
    "df['Country'].unique()"
   ]
  },
  {
   "cell_type": "markdown",
   "metadata": {
    "id": "20z6jQ9nrFrC"
   },
   "source": [
    "In the same way we can access the multiple columns of the DataFrame. In this case the returned object is DataFrame"
   ]
  },
  {
   "cell_type": "code",
   "execution_count": 10,
   "metadata": {
    "id": "ClJWdVQorFrD",
    "outputId": "f26ba4e6-7c00-4daf-a492-b34fa2df598e"
   },
   "outputs": [
    {
     "data": {
      "text/html": [
       "<div>\n",
       "<style scoped>\n",
       "    .dataframe tbody tr th:only-of-type {\n",
       "        vertical-align: middle;\n",
       "    }\n",
       "\n",
       "    .dataframe tbody tr th {\n",
       "        vertical-align: top;\n",
       "    }\n",
       "\n",
       "    .dataframe thead th {\n",
       "        text-align: right;\n",
       "    }\n",
       "</style>\n",
       "<table border=\"1\" class=\"dataframe\">\n",
       "  <thead>\n",
       "    <tr style=\"text-align: right;\">\n",
       "      <th></th>\n",
       "      <th>Spending_USD</th>\n",
       "      <th>Life_Expectancy</th>\n",
       "    </tr>\n",
       "  </thead>\n",
       "  <tbody>\n",
       "    <tr>\n",
       "      <th>0</th>\n",
       "      <td>252.311</td>\n",
       "      <td>70.6</td>\n",
       "    </tr>\n",
       "    <tr>\n",
       "      <th>1</th>\n",
       "      <td>192.143</td>\n",
       "      <td>72.2</td>\n",
       "    </tr>\n",
       "    <tr>\n",
       "      <th>2</th>\n",
       "      <td>123.993</td>\n",
       "      <td>71.9</td>\n",
       "    </tr>\n",
       "    <tr>\n",
       "      <th>3</th>\n",
       "      <td>150.437</td>\n",
       "      <td>72.0</td>\n",
       "    </tr>\n",
       "    <tr>\n",
       "      <th>4</th>\n",
       "      <td>326.961</td>\n",
       "      <td>70.9</td>\n",
       "    </tr>\n",
       "  </tbody>\n",
       "</table>\n",
       "</div>"
      ],
      "text/plain": [
       "   Spending_USD  Life_Expectancy\n",
       "0       252.311             70.6\n",
       "1       192.143             72.2\n",
       "2       123.993             71.9\n",
       "3       150.437             72.0\n",
       "4       326.961             70.9"
      ]
     },
     "execution_count": 10,
     "metadata": {},
     "output_type": "execute_result"
    }
   ],
   "source": [
    "df_floats = df[['Spending_USD', 'Life_Expectancy']]\n",
    "df_floats.head(5)"
   ]
  },
  {
   "cell_type": "markdown",
   "metadata": {
    "id": "53q0UKArrFrD"
   },
   "source": [
    "### filter rows\n",
    "Now let's extract the subset of the table: only the data for Japan or USA. Please, note that there are only 102 rows representing those 2 countries"
   ]
  },
  {
   "cell_type": "code",
   "execution_count": 11,
   "metadata": {
    "id": "pBYc2RAerFrD",
    "outputId": "4a10d1aa-4477-4773-add6-3750f6604604"
   },
   "outputs": [
    {
     "data": {
      "text/plain": [
       "(102, 4)"
      ]
     },
     "execution_count": 11,
     "metadata": {},
     "output_type": "execute_result"
    }
   ],
   "source": [
    "df_japan_usa = df[df.Country.isin(['Japan', 'USA'])]\n",
    "df_japan_usa = df[(df.Country == 'Japan') | (df.Country == 'USA')]\n",
    "df_japan_usa.shape"
   ]
  },
  {
   "cell_type": "markdown",
   "metadata": {
    "id": "xYlhPU7KrFrD"
   },
   "source": [
    "what do df.Country == 'Japan' returns?"
   ]
  },
  {
   "cell_type": "code",
   "execution_count": 12,
   "metadata": {
    "id": "2S4qM9HirFrE",
    "outputId": "b50a9db3-6b50-4561-d7d2-202089317568"
   },
   "outputs": [
    {
     "data": {
      "text/plain": [
       "0    False\n",
       "1    False\n",
       "2    False\n",
       "3     True\n",
       "4    False\n",
       "5    False\n",
       "6    False\n",
       "7    False\n",
       "8     True\n",
       "9    False\n",
       "Name: Country, dtype: bool"
      ]
     },
     "execution_count": 12,
     "metadata": {},
     "output_type": "execute_result"
    }
   ],
   "source": [
    "(df.Country == 'Japan').head(10)"
   ]
  },
  {
   "cell_type": "markdown",
   "metadata": {
    "id": "UUDO0Rc5rFrE"
   },
   "source": [
    "### Filter by rows & columns\n",
    "Now let's check in which country people lived longer than 83 years after the year 2015"
   ]
  },
  {
   "cell_type": "code",
   "execution_count": 13,
   "metadata": {
    "id": "s5CT8SY7rFrE",
    "outputId": "fdd9a23a-3726-425e-d69c-abae92613530"
   },
   "outputs": [
    {
     "data": {
      "text/plain": [
       "248    Japan\n",
       "254    Japan\n",
       "260    Japan\n",
       "266    Japan\n",
       "272    Japan\n",
       "Name: Country, dtype: object"
      ]
     },
     "execution_count": 13,
     "metadata": {},
     "output_type": "execute_result"
    }
   ],
   "source": [
    "df.loc[(df[\"Year\"] > 2015) & (df[\"Life_Expectancy\"]>=83), \"Country\"]"
   ]
  },
  {
   "cell_type": "markdown",
   "metadata": {
    "id": "zGCG5egjrFrE"
   },
   "source": [
    "### filter by index"
   ]
  },
  {
   "cell_type": "markdown",
   "metadata": {
    "id": "zFBv8T2drFrE"
   },
   "source": [
    "Now let's choose the rows 10 till 15 and columns 2 to 4"
   ]
  },
  {
   "cell_type": "code",
   "execution_count": 14,
   "metadata": {
    "id": "_ng_UFAhrFrF",
    "outputId": "90305c0c-7a0d-488d-f68a-e71fe7e4d555"
   },
   "outputs": [
    {
     "data": {
      "text/html": [
       "<div>\n",
       "<style scoped>\n",
       "    .dataframe tbody tr th:only-of-type {\n",
       "        vertical-align: middle;\n",
       "    }\n",
       "\n",
       "    .dataframe tbody tr th {\n",
       "        vertical-align: top;\n",
       "    }\n",
       "\n",
       "    .dataframe thead th {\n",
       "        text-align: right;\n",
       "    }\n",
       "</style>\n",
       "<table border=\"1\" class=\"dataframe\">\n",
       "  <thead>\n",
       "    <tr style=\"text-align: right;\">\n",
       "      <th></th>\n",
       "      <th>Spending_USD</th>\n",
       "      <th>Life_Expectancy</th>\n",
       "    </tr>\n",
       "  </thead>\n",
       "  <tbody>\n",
       "    <tr>\n",
       "      <th>9</th>\n",
       "      <td>357.988</td>\n",
       "      <td>71.2</td>\n",
       "    </tr>\n",
       "    <tr>\n",
       "      <th>10</th>\n",
       "      <td>337.364</td>\n",
       "      <td>71.0</td>\n",
       "    </tr>\n",
       "    <tr>\n",
       "      <th>11</th>\n",
       "      <td>185.390</td>\n",
       "      <td>73.2</td>\n",
       "    </tr>\n",
       "    <tr>\n",
       "      <th>12</th>\n",
       "      <td>397.097</td>\n",
       "      <td>71.2</td>\n",
       "    </tr>\n",
       "    <tr>\n",
       "      <th>13</th>\n",
       "      <td>384.541</td>\n",
       "      <td>71.3</td>\n",
       "    </tr>\n",
       "    <tr>\n",
       "      <th>14</th>\n",
       "      <td>205.778</td>\n",
       "      <td>73.4</td>\n",
       "    </tr>\n",
       "  </tbody>\n",
       "</table>\n",
       "</div>"
      ],
      "text/plain": [
       "    Spending_USD  Life_Expectancy\n",
       "9        357.988             71.2\n",
       "10       337.364             71.0\n",
       "11       185.390             73.2\n",
       "12       397.097             71.2\n",
       "13       384.541             71.3\n",
       "14       205.778             73.4"
      ]
     },
     "execution_count": 14,
     "metadata": {},
     "output_type": "execute_result"
    }
   ],
   "source": [
    "df.iloc[9:15, 2:4]"
   ]
  },
  {
   "cell_type": "markdown",
   "metadata": {
    "id": "4RzItJuBrFrF"
   },
   "source": [
    "## Read and write tabular data\n",
    "\n",
    "write the DataFrame to excel "
   ]
  },
  {
   "cell_type": "code",
   "execution_count": 15,
   "metadata": {
    "id": "-mNvzjPlrFrF"
   },
   "outputs": [],
   "source": [
    "df.to_excel(\"./data/healthexp.xlsx\", sheet_name=\"data\", index=False)"
   ]
  },
  {
   "cell_type": "markdown",
   "metadata": {
    "id": "uCnnga7grFrF"
   },
   "source": [
    "read the DataFrame from excel "
   ]
  },
  {
   "cell_type": "code",
   "execution_count": 16,
   "metadata": {
    "id": "RV4g6BPHrFrF"
   },
   "outputs": [],
   "source": [
    "df = pd.read_excel(\"./data/healthexp.xlsx\", sheet_name=\"data\")"
   ]
  },
  {
   "cell_type": "markdown",
   "metadata": {
    "id": "C7tgNjFZrFrG"
   },
   "source": [
    "## Plots in Pandas\n",
    "\n",
    "![](./img/04_plot_overview.svg)"
   ]
  },
  {
   "cell_type": "markdown",
   "metadata": {
    "id": "QzP4ddzarFrG"
   },
   "source": [
    "By default the plotting API by Pandas plots all the numerical columns of the DataFrame. In addition to line, we can use all other possible types of the plotting"
   ]
  },
  {
   "cell_type": "code",
   "execution_count": 17,
   "metadata": {
    "id": "d0dhO8YvrFrG",
    "outputId": "846e74e8-13b8-4267-e846-e7fb2b1fb2d0"
   },
   "outputs": [
    {
     "data": {
      "text/plain": [
       "array([<AxesSubplot:>, <AxesSubplot:>, <AxesSubplot:>], dtype=object)"
      ]
     },
     "execution_count": 17,
     "metadata": {},
     "output_type": "execute_result"
    },
    {
     "data": {
      "image/png": "[encoded data removed]",
      "text/plain": [
       "<Figure size 640x480 with 3 Axes>"
      ]
     },
     "metadata": {},
     "output_type": "display_data"
    }
   ],
   "source": [
    "df.plot.line(subplots=True)"
   ]
  },
  {
   "cell_type": "markdown",
   "metadata": {
    "id": "UxhVNwpQrFrG"
   },
   "source": [
    "If we want to see the dependency between the Spendings and the life expectancy, we can use the scatter plot. We do it for all the countiries and only for Japan"
   ]
  },
  {
   "cell_type": "code",
   "execution_count": 18,
   "metadata": {
    "id": "QlCw6MGArFrG",
    "outputId": "ae887889-3e9f-4e43-9151-6e05350d6e2d"
   },
   "outputs": [
    {
     "data": {
      "text/plain": [
       "<AxesSubplot:xlabel='Spending_USD', ylabel='Life_Expectancy'>"
      ]
     },
     "execution_count": 18,
     "metadata": {},
     "output_type": "execute_result"
    },
    {
     "data": {
      "image/png": "[encoded data removed]",
      "text/plain": [
       "<Figure size 640x480 with 1 Axes>"
      ]
     },
     "metadata": {},
     "output_type": "display_data"
    }
   ],
   "source": [
    "df.plot.scatter(x='Spending_USD', y='Life_Expectancy')"
   ]
  },
  {
   "cell_type": "code",
   "execution_count": 19,
   "metadata": {
    "id": "ntUMCjB1rFrG",
    "outputId": "51731a10-9f42-486c-8063-bda8cd1fa496"
   },
   "outputs": [
    {
     "data": {
      "text/plain": [
       "<AxesSubplot:xlabel='Spending_USD', ylabel='Life_Expectancy'>"
      ]
     },
     "execution_count": 19,
     "metadata": {},
     "output_type": "execute_result"
    },
    {
     "data": {
      "image/png": "[encoded data removed]",
      "text/plain": [
       "<Figure size 640x480 with 1 Axes>"
      ]
     },
     "metadata": {},
     "output_type": "display_data"
    }
   ],
   "source": [
    "df[df.Country=='Japan'].plot.scatter(x='Spending_USD', y='Life_Expectancy')"
   ]
  }
 ],
 "metadata": {
  "colab": {
   "provenance": []
  },
  "kernelspec": {
   "display_name": "Python 3 (ipykernel)",
   "language": "python",
   "name": "python3"
  },
  "language_info": {
   "codemirror_mode": {
    "name": "ipython",
    "version": 3
   },
   "file_extension": ".py",
   "mimetype": "text/x-python",
   "name": "python",
   "nbconvert_exporter": "python",
   "pygments_lexer": "ipython3",
   "version": "3.7.4"
  }
 },
 "nbformat": 4,
 "nbformat_minor": 1
}

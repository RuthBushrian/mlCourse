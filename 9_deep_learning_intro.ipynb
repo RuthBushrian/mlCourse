{
 "cells": [
  {
   "cell_type": "markdown",
   "metadata": {},
   "source": [
    "# Introduction to Deep Learning\n",
    "\n",
    "In this notebook we will start our jorney towards the Deep Learning. We will move on to learn the ```Tensorflow```. "
   ]
  },
  {
   "cell_type": "markdown",
   "metadata": {},
   "source": [
    "import libraries"
   ]
  },
  {
   "cell_type": "code",
   "execution_count": 62,
   "metadata": {},
   "outputs": [],
   "source": [
    "import pandas as pd\n",
    "import matplotlib.pyplot as plt\n",
    "%matplotlib inline"
   ]
  },
  {
   "cell_type": "markdown",
   "metadata": {},
   "source": [
    "load the mnist_7000 data"
   ]
  },
  {
   "cell_type": "code",
   "execution_count": 63,
   "metadata": {},
   "outputs": [],
   "source": [
    "X = pd.read_csv('./data/mnist_7000_data.csv')\n",
    "y = pd.read_csv('./data/mnist_7000_labels.csv')"
   ]
  },
  {
   "cell_type": "markdown",
   "metadata": {},
   "source": [
    "Let's see how many different classes we have in the dataset"
   ]
  },
  {
   "cell_type": "markdown",
   "metadata": {},
   "source": [
    "Each row in X contains 784 features - representing the 28x28 pixels pictures. In order to view the pictures, we will rescale the 784 vector into the 2D matrix of 28x28 and then use the Matplotlib API for displaying the images. Let's view the first images of the dataset\n"
   ]
  },
  {
   "cell_type": "code",
   "execution_count": 64,
   "metadata": {},
   "outputs": [
    {
     "name": "stderr",
     "output_type": "stream",
     "text": [
      "C:\\Users\\777\\AppData\\Local\\Temp\\ipykernel_22108\\190954984.py:4: FutureWarning: Series.__getitem__ treating keys as positions is deprecated. In a future version, integer keys will always be treated as labels (consistent with DataFrame behavior). To access a value by position, use `ser.iloc[pos]`\n",
      "  axes[i].set_title(y.loc[i][0])\n"
     ]
    },
    {
     "data": {
      "image/png": "[encoded data removed]",
      "text/plain": [
       "<Figure size 1000x100 with 10 Axes>"
      ]
     },
     "metadata": {},
     "output_type": "display_data"
    }
   ],
   "source": [
    "fig, axes = plt.subplots(nrows=1, ncols=10, figsize= (10, 1), constrained_layout = True)\n",
    "for i in range(10):\n",
    "    axes[i].imshow(X.loc[i, :].values.reshape(28, 28), cmap = 'gray')\n",
    "    axes[i].set_title(y.loc[i][0])\n"
   ]
  },
  {
   "cell_type": "markdown",
   "metadata": {},
   "source": [
    "In this part we will rescale the features of the model - dividing it by 255 (the largest possible value of the pixel) to bring everythiong into the range of 0 to 1"
   ]
  },
  {
   "cell_type": "code",
   "execution_count": 65,
   "metadata": {},
   "outputs": [],
   "source": [
    "X = X/255"
   ]
  },
  {
   "cell_type": "markdown",
   "metadata": {},
   "source": [
    "We will divide the data into a training set and a test set"
   ]
  },
  {
   "cell_type": "code",
   "execution_count": 79,
   "metadata": {},
   "outputs": [],
   "source": [
    "from sklearn.model_selection import train_test_split\n",
    "\n",
    "X_train,  X_test, y_train, y_test = train_test_split(X, y, test_size=0.2, random_state=89)"
   ]
  },
  {
   "cell_type": "code",
   "execution_count": 80,
   "metadata": {},
   "outputs": [
    {
     "data": {
      "text/plain": [
       "((4000, 784), (1000, 784), (4000, 1), (1000, 1))"
      ]
     },
     "execution_count": 80,
     "metadata": {},
     "output_type": "execute_result"
    }
   ],
   "source": [
    "X_train.shape,  X_test.shape, y_train.shape, y_test.shape"
   ]
  },
  {
   "cell_type": "markdown",
   "metadata": {},
   "source": [
    "## Tensorflow: Our first Neural Network\n",
    "\n",
    "To install ```Tensorflow``` run the following\n",
    "```\n",
    "pip install tensorflow\n",
    "```\n",
    "\n",
    "Instead of writing the pure Tensorflow code, we will use the common ```Keras``` high-level API that wraps the functionality of the package.\n"
   ]
  },
  {
   "cell_type": "code",
   "execution_count": 81,
   "metadata": {},
   "outputs": [],
   "source": [
    "import tensorflow.keras as keras\n",
    "from keras.layers import InputLayer, Dense, Activation\n",
    "from keras.models import Sequential"
   ]
  },
  {
   "cell_type": "code",
   "execution_count": 82,
   "metadata": {},
   "outputs": [],
   "source": [
    "import tensorflow as tf\n",
    "tf.random.set_seed(34)"
   ]
  },
  {
   "cell_type": "markdown",
   "metadata": {},
   "source": [
    "We will use the Sequential API of Keras. A Sequential model is appropriate for a plain stack of layers where each layer has exactly one input tensor and one output tensor."
   ]
  },
  {
   "cell_type": "code",
   "execution_count": 97,
   "metadata": {},
   "outputs": [],
   "source": [
    "model = Sequential()\n",
    "model.add(InputLayer(input_shape = 784))\n",
    "model.add(Dense(128))\n",
    "model.add(Activation('relu'))\n",
    "model.add(Dense(10))\n",
    "model.add(Activation('softmax'))"
   ]
  },
  {
   "cell_type": "markdown",
   "metadata": {},
   "source": [
    "The arcitecture looks like the following:\n",
    "\n",
    "![logistic_network](./img/nn_architacture.png)"
   ]
  },
  {
   "cell_type": "markdown",
   "metadata": {},
   "source": [
    "the summery of the model"
   ]
  },
  {
   "cell_type": "code",
   "execution_count": 98,
   "metadata": {},
   "outputs": [
    {
     "name": "stdout",
     "output_type": "stream",
     "text": [
      "Model: \"sequential_7\"\n",
      "_________________________________________________________________\n",
      " Layer (type)                Output Shape              Param #   \n",
      "=================================================================\n",
      " dense_10 (Dense)            (None, 128)               100480    \n",
      "                                                                 \n",
      " activation_10 (Activation)  (None, 128)               0         \n",
      "                                                                 \n",
      " dense_11 (Dense)            (None, 10)                1290      \n",
      "                                                                 \n",
      " activation_11 (Activation)  (None, 10)                0         \n",
      "                                                                 \n",
      "=================================================================\n",
      "Total params: 101770 (397.54 KB)\n",
      "Trainable params: 101770 (397.54 KB)\n",
      "Non-trainable params: 0 (0.00 Byte)\n",
      "_________________________________________________________________\n"
     ]
    }
   ],
   "source": [
    "model.summary()"
   ]
  },
  {
   "cell_type": "markdown",
   "metadata": {},
   "source": [
    "Each i of the vector representing the \"probability\" that the input image is classified as a number i. Therefore, in order to use the original labels we need to convert the numbers 0, 1, 2, ..., 9 of the y_test/y_train into the one-hot encoding vectors, where the 0 corresponds to the vector $[1, 0, 0, 0, ..., 0]$, etc.\n"
   ]
  },
  {
   "cell_type": "code",
   "execution_count": 99,
   "metadata": {},
   "outputs": [],
   "source": [
    "y_train_cat = keras.utils.to_categorical(y_train, 10)\n",
    "y_test_cat = keras.utils.to_categorical(y_test, 10)\n"
   ]
  },
  {
   "cell_type": "markdown",
   "metadata": {},
   "source": [
    "Now it's time to train the network. We do it by the following steps:\n",
    "\n",
    "* Compiling the model, defining the optimizer to use (in this case - Stochastic gradient descent) and the metric to use to converge\n",
    "* Fitting the model by calling the function ```fit``` with the batch size, number of epochs\n",
    "* Saving the model (into the file of type hdf5) and the history of the train into the CSV file\n"
   ]
  },
  {
   "cell_type": "code",
   "execution_count": 103,
   "metadata": {},
   "outputs": [],
   "source": [
    "model.compile(optimizer=keras.optimizers.SGD(), loss = 'categorical_crossentropy', run_eagerly=True, metrics=['accuracy'])"
   ]
  },
  {
   "cell_type": "code",
   "execution_count": 104,
   "metadata": {},
   "outputs": [
    {
     "name": "stdout",
     "output_type": "stream",
     "text": [
      "Epoch 1/100\n",
      "125/125 [==============================] - 1s 11ms/step - loss: 1.8839 - accuracy: 0.4655 - val_loss: 1.4921 - val_accuracy: 0.6630\n",
      "Epoch 2/100\n",
      "125/125 [==============================] - 1s 10ms/step - loss: 1.1817 - accuracy: 0.7538 - val_loss: 1.0274 - val_accuracy: 0.7710\n",
      "Epoch 3/100\n",
      "125/125 [==============================] - 1s 10ms/step - loss: 0.8401 - accuracy: 0.8270 - val_loss: 0.8077 - val_accuracy: 0.8200\n",
      "Epoch 4/100\n",
      "125/125 [==============================] - 1s 10ms/step - loss: 0.6714 - accuracy: 0.8515 - val_loss: 0.6844 - val_accuracy: 0.8370\n",
      "Epoch 5/100\n",
      "125/125 [==============================] - 1s 11ms/step - loss: 0.5734 - accuracy: 0.8685 - val_loss: 0.6116 - val_accuracy: 0.8540\n",
      "Epoch 6/100\n",
      "125/125 [==============================] - 1s 11ms/step - loss: 0.5104 - accuracy: 0.8810 - val_loss: 0.5588 - val_accuracy: 0.8550\n",
      "Epoch 7/100\n",
      "125/125 [==============================] - 1s 11ms/step - loss: 0.4649 - accuracy: 0.8910 - val_loss: 0.5269 - val_accuracy: 0.8630\n",
      "Epoch 8/100\n",
      "125/125 [==============================] - 1s 10ms/step - loss: 0.4305 - accuracy: 0.8942 - val_loss: 0.4989 - val_accuracy: 0.8680\n",
      "Epoch 9/100\n",
      "125/125 [==============================] - 1s 11ms/step - loss: 0.4039 - accuracy: 0.8992 - val_loss: 0.4746 - val_accuracy: 0.8650\n",
      "Epoch 10/100\n",
      "125/125 [==============================] - 1s 10ms/step - loss: 0.3824 - accuracy: 0.9018 - val_loss: 0.4585 - val_accuracy: 0.8690\n",
      "Epoch 11/100\n",
      "125/125 [==============================] - 1s 10ms/step - loss: 0.3643 - accuracy: 0.9093 - val_loss: 0.4406 - val_accuracy: 0.8790\n",
      "Epoch 12/100\n",
      "125/125 [==============================] - 1s 10ms/step - loss: 0.3492 - accuracy: 0.9120 - val_loss: 0.4318 - val_accuracy: 0.8750\n",
      "Epoch 13/100\n",
      "125/125 [==============================] - 1s 10ms/step - loss: 0.3363 - accuracy: 0.9165 - val_loss: 0.4213 - val_accuracy: 0.8850\n",
      "Epoch 14/100\n",
      "125/125 [==============================] - 1s 10ms/step - loss: 0.3239 - accuracy: 0.9175 - val_loss: 0.4108 - val_accuracy: 0.8870\n",
      "Epoch 15/100\n",
      "125/125 [==============================] - 1s 10ms/step - loss: 0.3133 - accuracy: 0.9193 - val_loss: 0.4015 - val_accuracy: 0.8890\n",
      "Epoch 16/100\n",
      "125/125 [==============================] - 1s 10ms/step - loss: 0.3041 - accuracy: 0.9220 - val_loss: 0.3967 - val_accuracy: 0.8880\n",
      "Epoch 17/100\n",
      "125/125 [==============================] - 1s 10ms/step - loss: 0.2949 - accuracy: 0.9235 - val_loss: 0.3885 - val_accuracy: 0.8890\n",
      "Epoch 18/100\n",
      "125/125 [==============================] - 1s 10ms/step - loss: 0.2871 - accuracy: 0.9275 - val_loss: 0.3824 - val_accuracy: 0.8910\n",
      "Epoch 19/100\n",
      "125/125 [==============================] - 1s 10ms/step - loss: 0.2803 - accuracy: 0.9290 - val_loss: 0.3779 - val_accuracy: 0.8970\n",
      "Epoch 20/100\n",
      "125/125 [==============================] - 1s 10ms/step - loss: 0.2738 - accuracy: 0.9293 - val_loss: 0.3721 - val_accuracy: 0.8960\n",
      "Epoch 21/100\n",
      "125/125 [==============================] - 1s 10ms/step - loss: 0.2671 - accuracy: 0.9310 - val_loss: 0.3682 - val_accuracy: 0.8920\n",
      "Epoch 22/100\n",
      "125/125 [==============================] - 1s 10ms/step - loss: 0.2611 - accuracy: 0.9330 - val_loss: 0.3662 - val_accuracy: 0.8950\n",
      "Epoch 23/100\n",
      "125/125 [==============================] - 1s 11ms/step - loss: 0.2559 - accuracy: 0.9333 - val_loss: 0.3627 - val_accuracy: 0.8940\n",
      "Epoch 24/100\n",
      "125/125 [==============================] - 1s 11ms/step - loss: 0.2504 - accuracy: 0.9330 - val_loss: 0.3582 - val_accuracy: 0.8960\n",
      "Epoch 25/100\n",
      "125/125 [==============================] - 1s 11ms/step - loss: 0.2457 - accuracy: 0.9360 - val_loss: 0.3555 - val_accuracy: 0.8970\n",
      "Epoch 26/100\n",
      "125/125 [==============================] - 1s 11ms/step - loss: 0.2405 - accuracy: 0.9377 - val_loss: 0.3527 - val_accuracy: 0.8960\n",
      "Epoch 27/100\n",
      "125/125 [==============================] - 1s 12ms/step - loss: 0.2365 - accuracy: 0.9377 - val_loss: 0.3501 - val_accuracy: 0.8970\n",
      "Epoch 28/100\n",
      "125/125 [==============================] - 1s 11ms/step - loss: 0.2324 - accuracy: 0.9390 - val_loss: 0.3457 - val_accuracy: 0.9000\n",
      "Epoch 29/100\n",
      "125/125 [==============================] - 1s 11ms/step - loss: 0.2286 - accuracy: 0.9398 - val_loss: 0.3443 - val_accuracy: 0.8990\n",
      "Epoch 30/100\n",
      "125/125 [==============================] - 1s 11ms/step - loss: 0.2234 - accuracy: 0.9423 - val_loss: 0.3412 - val_accuracy: 0.9020\n",
      "Epoch 31/100\n",
      "125/125 [==============================] - 1s 11ms/step - loss: 0.2200 - accuracy: 0.9438 - val_loss: 0.3379 - val_accuracy: 0.9050\n",
      "Epoch 32/100\n",
      "125/125 [==============================] - 1s 10ms/step - loss: 0.2169 - accuracy: 0.9448 - val_loss: 0.3366 - val_accuracy: 0.9010\n",
      "Epoch 33/100\n",
      "125/125 [==============================] - 1s 11ms/step - loss: 0.2131 - accuracy: 0.9450 - val_loss: 0.3355 - val_accuracy: 0.9040\n",
      "Epoch 34/100\n",
      "125/125 [==============================] - 1s 11ms/step - loss: 0.2099 - accuracy: 0.9477 - val_loss: 0.3319 - val_accuracy: 0.9010\n",
      "Epoch 35/100\n",
      "125/125 [==============================] - 1s 10ms/step - loss: 0.2059 - accuracy: 0.9495 - val_loss: 0.3321 - val_accuracy: 0.9070\n",
      "Epoch 36/100\n",
      "125/125 [==============================] - 1s 11ms/step - loss: 0.2033 - accuracy: 0.9480 - val_loss: 0.3326 - val_accuracy: 0.9030\n",
      "Epoch 37/100\n",
      "125/125 [==============================] - 1s 11ms/step - loss: 0.2003 - accuracy: 0.9490 - val_loss: 0.3279 - val_accuracy: 0.9100\n",
      "Epoch 38/100\n",
      "125/125 [==============================] - 1s 11ms/step - loss: 0.1970 - accuracy: 0.9492 - val_loss: 0.3272 - val_accuracy: 0.9050\n",
      "Epoch 39/100\n",
      "125/125 [==============================] - 1s 10ms/step - loss: 0.1942 - accuracy: 0.9507 - val_loss: 0.3246 - val_accuracy: 0.9080\n",
      "Epoch 40/100\n",
      "125/125 [==============================] - 1s 10ms/step - loss: 0.1911 - accuracy: 0.9530 - val_loss: 0.3219 - val_accuracy: 0.9080\n",
      "Epoch 41/100\n",
      "125/125 [==============================] - 1s 11ms/step - loss: 0.1881 - accuracy: 0.9538 - val_loss: 0.3244 - val_accuracy: 0.9050\n",
      "Epoch 42/100\n",
      "125/125 [==============================] - 1s 12ms/step - loss: 0.1858 - accuracy: 0.9540 - val_loss: 0.3207 - val_accuracy: 0.9070\n",
      "Epoch 43/100\n",
      "125/125 [==============================] - 1s 11ms/step - loss: 0.1833 - accuracy: 0.9542 - val_loss: 0.3181 - val_accuracy: 0.9100\n",
      "Epoch 44/100\n",
      "125/125 [==============================] - 1s 12ms/step - loss: 0.1806 - accuracy: 0.9540 - val_loss: 0.3176 - val_accuracy: 0.9110\n",
      "Epoch 45/100\n",
      "125/125 [==============================] - 1s 11ms/step - loss: 0.1780 - accuracy: 0.9555 - val_loss: 0.3152 - val_accuracy: 0.9090\n",
      "Epoch 46/100\n",
      "125/125 [==============================] - 1s 11ms/step - loss: 0.1756 - accuracy: 0.9570 - val_loss: 0.3156 - val_accuracy: 0.9110\n",
      "Epoch 47/100\n",
      "125/125 [==============================] - 1s 11ms/step - loss: 0.1730 - accuracy: 0.9567 - val_loss: 0.3182 - val_accuracy: 0.9070\n",
      "Epoch 48/100\n",
      "125/125 [==============================] - 1s 11ms/step - loss: 0.1708 - accuracy: 0.9563 - val_loss: 0.3147 - val_accuracy: 0.9070\n",
      "Epoch 49/100\n",
      "125/125 [==============================] - 1s 11ms/step - loss: 0.1686 - accuracy: 0.9603 - val_loss: 0.3106 - val_accuracy: 0.9090\n",
      "Epoch 50/100\n",
      "125/125 [==============================] - 1s 11ms/step - loss: 0.1663 - accuracy: 0.9597 - val_loss: 0.3120 - val_accuracy: 0.9100\n",
      "Epoch 51/100\n",
      "125/125 [==============================] - 1s 11ms/step - loss: 0.1636 - accuracy: 0.9590 - val_loss: 0.3138 - val_accuracy: 0.9080\n",
      "Epoch 52/100\n",
      "125/125 [==============================] - 1s 11ms/step - loss: 0.1619 - accuracy: 0.9613 - val_loss: 0.3090 - val_accuracy: 0.9080\n",
      "Epoch 53/100\n",
      "125/125 [==============================] - 1s 11ms/step - loss: 0.1598 - accuracy: 0.9615 - val_loss: 0.3093 - val_accuracy: 0.9090\n",
      "Epoch 54/100\n",
      "125/125 [==============================] - 1s 11ms/step - loss: 0.1577 - accuracy: 0.9622 - val_loss: 0.3086 - val_accuracy: 0.9080\n",
      "Epoch 55/100\n",
      "125/125 [==============================] - 1s 11ms/step - loss: 0.1557 - accuracy: 0.9628 - val_loss: 0.3073 - val_accuracy: 0.9090\n",
      "Epoch 56/100\n",
      "125/125 [==============================] - 1s 11ms/step - loss: 0.1533 - accuracy: 0.9630 - val_loss: 0.3072 - val_accuracy: 0.9080\n",
      "Epoch 57/100\n",
      "125/125 [==============================] - 1s 11ms/step - loss: 0.1520 - accuracy: 0.9630 - val_loss: 0.3059 - val_accuracy: 0.9100\n",
      "Epoch 58/100\n",
      "125/125 [==============================] - 1s 11ms/step - loss: 0.1496 - accuracy: 0.9628 - val_loss: 0.3051 - val_accuracy: 0.9090\n",
      "Epoch 59/100\n",
      "125/125 [==============================] - 1s 11ms/step - loss: 0.1477 - accuracy: 0.9640 - val_loss: 0.3030 - val_accuracy: 0.9120\n",
      "Epoch 60/100\n",
      "125/125 [==============================] - 1s 11ms/step - loss: 0.1457 - accuracy: 0.9643 - val_loss: 0.3029 - val_accuracy: 0.9130\n",
      "Epoch 61/100\n",
      "125/125 [==============================] - 1s 11ms/step - loss: 0.1438 - accuracy: 0.9640 - val_loss: 0.3003 - val_accuracy: 0.9130\n",
      "Epoch 62/100\n",
      "125/125 [==============================] - 1s 11ms/step - loss: 0.1422 - accuracy: 0.9647 - val_loss: 0.3027 - val_accuracy: 0.9130\n",
      "Epoch 63/100\n",
      "125/125 [==============================] - 1s 11ms/step - loss: 0.1405 - accuracy: 0.9643 - val_loss: 0.3027 - val_accuracy: 0.9130\n",
      "Epoch 64/100\n",
      "125/125 [==============================] - 1s 11ms/step - loss: 0.1388 - accuracy: 0.9653 - val_loss: 0.3029 - val_accuracy: 0.9100\n",
      "Epoch 65/100\n",
      "125/125 [==============================] - 1s 11ms/step - loss: 0.1370 - accuracy: 0.9660 - val_loss: 0.3031 - val_accuracy: 0.9100\n",
      "Epoch 66/100\n",
      "125/125 [==============================] - 1s 11ms/step - loss: 0.1352 - accuracy: 0.9663 - val_loss: 0.2985 - val_accuracy: 0.9120\n",
      "Epoch 67/100\n",
      "125/125 [==============================] - 1s 11ms/step - loss: 0.1339 - accuracy: 0.9665 - val_loss: 0.2995 - val_accuracy: 0.9130\n",
      "Epoch 68/100\n",
      "125/125 [==============================] - 1s 11ms/step - loss: 0.1322 - accuracy: 0.9668 - val_loss: 0.2998 - val_accuracy: 0.9120\n",
      "Epoch 69/100\n",
      "125/125 [==============================] - 1s 11ms/step - loss: 0.1302 - accuracy: 0.9682 - val_loss: 0.2963 - val_accuracy: 0.9130\n",
      "Epoch 70/100\n",
      "125/125 [==============================] - 1s 11ms/step - loss: 0.1287 - accuracy: 0.9680 - val_loss: 0.2966 - val_accuracy: 0.9120\n",
      "Epoch 71/100\n",
      "125/125 [==============================] - 1s 11ms/step - loss: 0.1276 - accuracy: 0.9688 - val_loss: 0.2970 - val_accuracy: 0.9120\n",
      "Epoch 72/100\n",
      "125/125 [==============================] - 1s 11ms/step - loss: 0.1256 - accuracy: 0.9697 - val_loss: 0.2942 - val_accuracy: 0.9150\n",
      "Epoch 73/100\n",
      "125/125 [==============================] - 1s 11ms/step - loss: 0.1244 - accuracy: 0.9703 - val_loss: 0.2973 - val_accuracy: 0.9110\n",
      "Epoch 74/100\n",
      "125/125 [==============================] - 1s 11ms/step - loss: 0.1229 - accuracy: 0.9712 - val_loss: 0.2982 - val_accuracy: 0.9130\n",
      "Epoch 75/100\n",
      "125/125 [==============================] - 1s 11ms/step - loss: 0.1211 - accuracy: 0.9710 - val_loss: 0.2986 - val_accuracy: 0.9110\n",
      "Epoch 76/100\n",
      "125/125 [==============================] - 1s 11ms/step - loss: 0.1197 - accuracy: 0.9720 - val_loss: 0.2939 - val_accuracy: 0.9130\n",
      "Epoch 77/100\n",
      "125/125 [==============================] - 1s 11ms/step - loss: 0.1184 - accuracy: 0.9725 - val_loss: 0.2941 - val_accuracy: 0.9140\n",
      "Epoch 78/100\n",
      "125/125 [==============================] - 1s 11ms/step - loss: 0.1170 - accuracy: 0.9730 - val_loss: 0.2945 - val_accuracy: 0.9130\n",
      "Epoch 79/100\n",
      "125/125 [==============================] - 1s 10ms/step - loss: 0.1156 - accuracy: 0.9730 - val_loss: 0.2939 - val_accuracy: 0.9150\n",
      "Epoch 80/100\n",
      "125/125 [==============================] - 1s 11ms/step - loss: 0.1141 - accuracy: 0.9737 - val_loss: 0.2952 - val_accuracy: 0.9150\n",
      "Epoch 81/100\n",
      "125/125 [==============================] - 1s 11ms/step - loss: 0.1127 - accuracy: 0.9753 - val_loss: 0.2936 - val_accuracy: 0.9130\n",
      "Epoch 82/100\n",
      "125/125 [==============================] - 1s 11ms/step - loss: 0.1115 - accuracy: 0.9765 - val_loss: 0.2971 - val_accuracy: 0.9130\n",
      "Epoch 83/100\n",
      "125/125 [==============================] - 1s 11ms/step - loss: 0.1102 - accuracy: 0.9760 - val_loss: 0.2925 - val_accuracy: 0.9150\n",
      "Epoch 84/100\n",
      "125/125 [==============================] - 1s 11ms/step - loss: 0.1092 - accuracy: 0.9758 - val_loss: 0.2924 - val_accuracy: 0.9140\n",
      "Epoch 85/100\n",
      "125/125 [==============================] - 1s 11ms/step - loss: 0.1078 - accuracy: 0.9768 - val_loss: 0.2918 - val_accuracy: 0.9150\n",
      "Epoch 86/100\n",
      "125/125 [==============================] - 1s 11ms/step - loss: 0.1066 - accuracy: 0.9780 - val_loss: 0.2923 - val_accuracy: 0.9150\n",
      "Epoch 87/100\n",
      "125/125 [==============================] - 1s 11ms/step - loss: 0.1054 - accuracy: 0.9790 - val_loss: 0.2916 - val_accuracy: 0.9140\n",
      "Epoch 88/100\n",
      "125/125 [==============================] - 1s 11ms/step - loss: 0.1042 - accuracy: 0.9785 - val_loss: 0.2929 - val_accuracy: 0.9150\n",
      "Epoch 89/100\n",
      "125/125 [==============================] - 1s 11ms/step - loss: 0.1028 - accuracy: 0.9790 - val_loss: 0.2928 - val_accuracy: 0.9160\n",
      "Epoch 90/100\n",
      "125/125 [==============================] - 1s 11ms/step - loss: 0.1019 - accuracy: 0.9787 - val_loss: 0.2912 - val_accuracy: 0.9140\n",
      "Epoch 91/100\n",
      "125/125 [==============================] - 1s 11ms/step - loss: 0.1005 - accuracy: 0.9800 - val_loss: 0.2924 - val_accuracy: 0.9150\n",
      "Epoch 92/100\n",
      "125/125 [==============================] - 1s 11ms/step - loss: 0.0994 - accuracy: 0.9795 - val_loss: 0.2907 - val_accuracy: 0.9140\n",
      "Epoch 93/100\n",
      "125/125 [==============================] - 1s 11ms/step - loss: 0.0983 - accuracy: 0.9812 - val_loss: 0.2928 - val_accuracy: 0.9160\n",
      "Epoch 94/100\n",
      "125/125 [==============================] - 1s 11ms/step - loss: 0.0973 - accuracy: 0.9803 - val_loss: 0.2918 - val_accuracy: 0.9160\n",
      "Epoch 95/100\n",
      "125/125 [==============================] - 1s 11ms/step - loss: 0.0963 - accuracy: 0.9810 - val_loss: 0.2894 - val_accuracy: 0.9150\n",
      "Epoch 96/100\n",
      "125/125 [==============================] - 1s 11ms/step - loss: 0.0950 - accuracy: 0.9818 - val_loss: 0.2909 - val_accuracy: 0.9140\n",
      "Epoch 97/100\n",
      "125/125 [==============================] - 1s 11ms/step - loss: 0.0939 - accuracy: 0.9825 - val_loss: 0.2919 - val_accuracy: 0.9120\n",
      "Epoch 98/100\n",
      "125/125 [==============================] - 1s 11ms/step - loss: 0.0931 - accuracy: 0.9818 - val_loss: 0.2897 - val_accuracy: 0.9150\n",
      "Epoch 99/100\n",
      "125/125 [==============================] - 1s 11ms/step - loss: 0.0919 - accuracy: 0.9830 - val_loss: 0.2910 - val_accuracy: 0.9160\n",
      "Epoch 100/100\n",
      "125/125 [==============================] - 1s 11ms/step - loss: 0.0910 - accuracy: 0.9825 - val_loss: 0.2900 - val_accuracy: 0.9160\n"
     ]
    }
   ],
   "source": [
    "history = model.fit(X_train, y_train_cat, epochs=100, validation_data=(X_test, y_test_cat))"
   ]
  },
  {
   "cell_type": "markdown",
   "metadata": {},
   "source": [
    "save the model"
   ]
  },
  {
   "cell_type": "code",
   "execution_count": 105,
   "metadata": {},
   "outputs": [
    {
     "name": "stderr",
     "output_type": "stream",
     "text": [
      "C:\\Program Files\\Python311\\Lib\\site-packages\\keras\\src\\engine\\training.py:3103: UserWarning: You are saving your model as an HDF5 file via `model.save()`. This file format is considered legacy. We recommend using instead the native Keras format, e.g. `model.save('my_model.keras')`.\n",
      "  saving_api.save_model(\n"
     ]
    }
   ],
   "source": [
    "model.save('./model.h5')"
   ]
  },
  {
   "cell_type": "markdown",
   "metadata": {},
   "source": [
    "load model"
   ]
  },
  {
   "cell_type": "code",
   "execution_count": null,
   "metadata": {},
   "outputs": [],
   "source": []
  }
 ],
 "metadata": {
  "kernelspec": {
   "display_name": "Python 3 (ipykernel)",
   "language": "python",
   "name": "python3"
  },
  "language_info": {
   "codemirror_mode": {
    "name": "ipython",
    "version": 3
   },
   "file_extension": ".py",
   "mimetype": "text/x-python",
   "name": "python",
   "nbconvert_exporter": "python",
   "pygments_lexer": "ipython3",
   "version": "3.7.4"
  },
  "vscode": {
   "interpreter": {
    "hash": "3ad933181bd8a04b432d3370b9dc3b0662ad032c4dfaa4e4f1596c548f763858"
   }
  }
 },
 "nbformat": 4,
 "nbformat_minor": 4
}

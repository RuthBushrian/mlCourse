{
 "cells": [
  {
   "cell_type": "markdown",
   "metadata": {
    "id": "view-in-github"
   },
   "source": [
    "# Deep Learning: FNN"
   ]
  },
  {
   "cell_type": "markdown",
   "metadata": {
    "id": "ODkXzxzJX4RV"
   },
   "source": [
    "## 1. Introduction\n",
    "The CIFAR-10 dataset contains 60,000 color images of 32 x 32 pixels in 3 channels divided into 10\n",
    "classes. Each class contains 6,000 images. The training set contains 50,000 images, while the test sets\n",
    "provides 10,000 images. This image taken from the CIFAR repository ( <a href = \"https://www.cs.toronto.edu/~kriz/cifar.html\">https://www.cs.toronto.edu/~kriz/cifar.html </a>). This is a classification problem with 10 classes(muti-label classification). We can take a view on this image for more comprehension of the dataset.\n",
    "\n",
    "![cifar10.png](https://github.com/borislevant/SciComPy/blob/master/cifar10.png?raw=1)"
   ]
  },
  {
   "cell_type": "code",
   "execution_count": 103,
   "metadata": {
    "id": "xtbZ7cABolf7"
   },
   "outputs": [],
   "source": [
    "cifar_10_labels = [ \"Airplane\", \"Automobile\", \"Bird\",  \"Cat\", \"Deer\", \"Dog\", \"Frog\", \"Horse\", \"Ship\", \"Truck\" ]"
   ]
  },
  {
   "cell_type": "markdown",
   "metadata": {
    "id": "8loO1ZCAYNFq"
   },
   "source": [
    "## 2. Import and Preprocess the data\n",
    "\n"
   ]
  },
  {
   "cell_type": "markdown",
   "metadata": {
    "id": "CQEVEyzgcsQ-"
   },
   "source": [
    "### 2.1 Import all required libraries"
   ]
  },
  {
   "cell_type": "code",
   "execution_count": null,
   "metadata": {
    "id": "RxZygPoMYOJi"
   },
   "outputs": [],
   "source": []
  },
  {
   "cell_type": "markdown",
   "metadata": {
    "id": "od0ht3ORYW_L"
   },
   "source": [
    "### 2.2 Import and preproces of data\n",
    "We load the data and split it between train and test sets\n"
   ]
  },
  {
   "cell_type": "code",
   "execution_count": null,
   "metadata": {
    "colab": {
     "base_uri": "https://localhost:8080/"
    },
    "id": "_vQGeMoaYZeP",
    "outputId": "ef95a68d-394f-462c-b96d-22da83ed1cf5"
   },
   "outputs": [],
   "source": []
  },
  {
   "cell_type": "code",
   "execution_count": null,
   "metadata": {},
   "outputs": [],
   "source": []
  },
  {
   "cell_type": "markdown",
   "metadata": {
    "id": "gTWxeG7vj1vf"
   },
   "source": [
    "## 2.3 show the data"
   ]
  },
  {
   "cell_type": "code",
   "execution_count": null,
   "metadata": {
    "colab": {
     "base_uri": "https://localhost:8080/",
     "height": 177
    },
    "id": "IG7tjmU6j4VG",
    "outputId": "7a99ee32-d764-4c25-b328-670e6d1712dc"
   },
   "outputs": [],
   "source": []
  },
  {
   "cell_type": "code",
   "execution_count": null,
   "metadata": {
    "colab": {
     "base_uri": "https://localhost:8080/",
     "height": 177
    },
    "id": "-otaSm6Tk2AV",
    "outputId": "177e59ca-e746-4cf9-cc41-2fcfa74c3989"
   },
   "outputs": [],
   "source": []
  },
  {
   "cell_type": "markdown",
   "metadata": {
    "id": "5s3hyZ2Evm-O"
   },
   "source": [
    "Normalize the data. Before we need to connvert data type to float for computation."
   ]
  },
  {
   "cell_type": "code",
   "execution_count": null,
   "metadata": {
    "id": "bMdzujJVcfoI"
   },
   "outputs": [],
   "source": []
  },
  {
   "cell_type": "markdown",
   "metadata": {
    "id": "hUUqXZHivm-O"
   },
   "source": [
    "Convert class vectors to binary class matrices. This is called one hot encoding."
   ]
  },
  {
   "cell_type": "code",
   "execution_count": null,
   "metadata": {
    "colab": {
     "base_uri": "https://localhost:8080/"
    },
    "id": "sxmYj0Ssvm-P",
    "outputId": "dca02875-91d5-48ee-b282-d1985b56c4c7"
   },
   "outputs": [],
   "source": []
  },
  {
   "cell_type": "markdown",
   "metadata": {
    "id": "vJ6g0nKpaVf4"
   },
   "source": [
    "## 3. Simple model"
   ]
  },
  {
   "cell_type": "markdown",
   "metadata": {},
   "source": [
    "define the model"
   ]
  },
  {
   "cell_type": "code",
   "execution_count": null,
   "metadata": {
    "id": "W8PNA8cduAJH"
   },
   "outputs": [],
   "source": []
  },
  {
   "cell_type": "code",
   "execution_count": null,
   "metadata": {},
   "outputs": [],
   "source": []
  },
  {
   "cell_type": "code",
   "execution_count": null,
   "metadata": {
    "colab": {
     "base_uri": "https://localhost:8080/"
    },
    "id": "eHHh5oltaVDa",
    "outputId": "8446af17-fc51-4225-aea9-84aed6bdc249",
    "scrolled": true
   },
   "outputs": [],
   "source": []
  },
  {
   "cell_type": "markdown",
   "metadata": {},
   "source": [
    "compile and train the model"
   ]
  },
  {
   "cell_type": "code",
   "execution_count": null,
   "metadata": {
    "id": "cMg6KyF9p225"
   },
   "outputs": [],
   "source": []
  },
  {
   "cell_type": "code",
   "execution_count": null,
   "metadata": {
    "colab": {
     "base_uri": "https://localhost:8080/"
    },
    "id": "nstz6VYcaBw1",
    "outputId": "d47552e3-96fa-407d-8f64-445b95aac38a"
   },
   "outputs": [],
   "source": []
  },
  {
   "cell_type": "markdown",
   "metadata": {
    "id": "XuQyqmKzsG7D"
   },
   "source": [
    "## save the model"
   ]
  },
  {
   "cell_type": "markdown",
   "metadata": {},
   "source": [
    "save the model"
   ]
  },
  {
   "cell_type": "code",
   "execution_count": null,
   "metadata": {
    "id": "kQ-K5TcAUNqF"
   },
   "outputs": [],
   "source": []
  },
  {
   "cell_type": "markdown",
   "metadata": {},
   "source": [
    "save the history"
   ]
  },
  {
   "cell_type": "code",
   "execution_count": null,
   "metadata": {
    "id": "16oGS39BUZpv"
   },
   "outputs": [],
   "source": []
  },
  {
   "cell_type": "markdown",
   "metadata": {
    "id": "i-eHW2URsOqy"
   },
   "source": [
    "## Read the model"
   ]
  },
  {
   "cell_type": "code",
   "execution_count": null,
   "metadata": {
    "colab": {
     "base_uri": "https://localhost:8080/"
    },
    "id": "VUjt9pPIsS5k",
    "outputId": "73169ae0-305c-4df8-b125-ebfb601a21ab"
   },
   "outputs": [],
   "source": []
  },
  {
   "cell_type": "markdown",
   "metadata": {
    "id": "NNNPoEFCfWZK"
   },
   "source": [
    "## 4. Fully-connected Neural Network (FNN) model"
   ]
  },
  {
   "cell_type": "code",
   "execution_count": 1,
   "metadata": {
    "colab": {
     "base_uri": "https://localhost:8080/"
    },
    "id": "HQ6jPs0FfV_-",
    "outputId": "3a8f83e9-c033-42de-a3ef-3f259b2155de"
   },
   "outputs": [],
   "source": [
    "# # the code for create the model\n",
    "# reg = keras.regularizers.l2(l2=0.0001)\n",
    "# fnn_model = Sequential()\n",
    "# fnn_model.add(InputLayer(input_shape=x_train.shape[1:]))\n",
    "# fnn_model.add(Flatten())\n",
    "# fnn_model.add(Dense(1024, activation='relu', kernel_regularizer=reg))\n",
    "# fnn_model.add(Dropout(0.2))\n",
    "# fnn_model.add(Dense(256, activation='relu', kernel_regularizer=reg))\n",
    "# fnn_model.add(Dense(64, activation='relu', kernel_regularizer=reg))\n",
    "# fnn_model.add(Dense(num_classes, activation='softmax', kernel_regularizer=reg))\n",
    "# fnn_model.summary()"
   ]
  },
  {
   "cell_type": "code",
   "execution_count": 105,
   "metadata": {
    "id": "HBwOYNVLxKHa"
   },
   "outputs": [],
   "source": [
    "# # parameters\n",
    "# num_classes = 10\n",
    "# epochs = 100\n",
    "\n",
    "# opt = keras.optimizers.Adam(learning_rate=0.001)\n",
    "# reg = keras.regularizers.l2(l2=0.0001)"
   ]
  },
  {
   "cell_type": "code",
   "execution_count": 106,
   "metadata": {
    "colab": {
     "base_uri": "https://localhost:8080/"
    },
    "id": "v44TLZmOftmC",
    "outputId": "5644cee0-2d00-4f8b-bdfd-c326d4d43994",
    "scrolled": true
   },
   "outputs": [
    {
     "name": "stdout",
     "output_type": "stream",
     "text": [
      "Epoch 1/100\n",
      "1563/1563 [==============================] - 10s 6ms/step - loss: 2.0349 - accuracy: 0.2919 - val_loss: 1.8679 - val_accuracy: 0.3536\n",
      "Epoch 2/100\n",
      "1563/1563 [==============================] - 8s 5ms/step - loss: 1.8420 - accuracy: 0.3509 - val_loss: 1.7295 - val_accuracy: 0.3967\n",
      "Epoch 3/100\n",
      "1563/1563 [==============================] - 8s 5ms/step - loss: 1.7729 - accuracy: 0.3798 - val_loss: 1.6892 - val_accuracy: 0.4088\n",
      "Epoch 4/100\n",
      "1563/1563 [==============================] - 9s 6ms/step - loss: 1.7378 - accuracy: 0.3907 - val_loss: 1.6721 - val_accuracy: 0.4248\n",
      "Epoch 5/100\n",
      "1563/1563 [==============================] - 8s 5ms/step - loss: 1.7109 - accuracy: 0.4061 - val_loss: 1.6428 - val_accuracy: 0.4352\n",
      "Epoch 6/100\n",
      "1563/1563 [==============================] - 9s 6ms/step - loss: 1.6946 - accuracy: 0.4105 - val_loss: 1.6347 - val_accuracy: 0.4393\n",
      "Epoch 7/100\n",
      "1563/1563 [==============================] - 8s 5ms/step - loss: 1.6874 - accuracy: 0.4145 - val_loss: 1.6962 - val_accuracy: 0.4173\n",
      "Epoch 8/100\n",
      "1563/1563 [==============================] - 8s 5ms/step - loss: 1.6765 - accuracy: 0.4227 - val_loss: 1.6303 - val_accuracy: 0.4363\n",
      "Epoch 9/100\n",
      "1563/1563 [==============================] - 8s 5ms/step - loss: 1.6667 - accuracy: 0.4227 - val_loss: 1.6242 - val_accuracy: 0.4449\n",
      "Epoch 10/100\n",
      "1563/1563 [==============================] - 9s 6ms/step - loss: 1.6613 - accuracy: 0.4290 - val_loss: 1.6151 - val_accuracy: 0.4408\n",
      "Epoch 11/100\n",
      "1563/1563 [==============================] - 8s 5ms/step - loss: 1.6511 - accuracy: 0.4323 - val_loss: 1.5779 - val_accuracy: 0.4670\n",
      "Epoch 12/100\n",
      "1563/1563 [==============================] - 8s 5ms/step - loss: 1.6441 - accuracy: 0.4360 - val_loss: 1.6303 - val_accuracy: 0.4436\n",
      "Epoch 13/100\n",
      "1563/1563 [==============================] - 8s 5ms/step - loss: 1.6456 - accuracy: 0.4372 - val_loss: 1.6369 - val_accuracy: 0.4415\n",
      "Epoch 14/100\n",
      "1563/1563 [==============================] - 8s 5ms/step - loss: 1.6390 - accuracy: 0.4384 - val_loss: 1.6020 - val_accuracy: 0.4572\n",
      "Epoch 15/100\n",
      "1563/1563 [==============================] - 9s 6ms/step - loss: 1.6322 - accuracy: 0.4431 - val_loss: 1.5717 - val_accuracy: 0.4687\n",
      "Epoch 16/100\n",
      "1563/1563 [==============================] - 8s 5ms/step - loss: 1.6233 - accuracy: 0.4461 - val_loss: 1.5882 - val_accuracy: 0.4581\n",
      "Epoch 17/100\n",
      "1563/1563 [==============================] - 8s 5ms/step - loss: 1.6211 - accuracy: 0.4446 - val_loss: 1.5745 - val_accuracy: 0.4737\n",
      "Epoch 18/100\n",
      "1563/1563 [==============================] - 9s 6ms/step - loss: 1.6239 - accuracy: 0.4475 - val_loss: 1.5700 - val_accuracy: 0.4744\n",
      "Epoch 19/100\n",
      "1563/1563 [==============================] - 9s 6ms/step - loss: 1.6296 - accuracy: 0.4461 - val_loss: 1.5791 - val_accuracy: 0.4663\n",
      "Epoch 20/100\n",
      "1563/1563 [==============================] - 8s 5ms/step - loss: 1.6236 - accuracy: 0.4477 - val_loss: 1.5731 - val_accuracy: 0.4629\n",
      "Epoch 21/100\n",
      "1563/1563 [==============================] - 9s 5ms/step - loss: 1.6244 - accuracy: 0.4459 - val_loss: 1.5753 - val_accuracy: 0.4730\n",
      "Epoch 22/100\n",
      "1563/1563 [==============================] - 9s 6ms/step - loss: 1.6176 - accuracy: 0.4500 - val_loss: 1.5603 - val_accuracy: 0.4782\n",
      "Epoch 23/100\n",
      "1563/1563 [==============================] - 9s 6ms/step - loss: 1.6115 - accuracy: 0.4525 - val_loss: 1.5644 - val_accuracy: 0.4750\n",
      "Epoch 24/100\n",
      "1563/1563 [==============================] - 8s 5ms/step - loss: 1.6116 - accuracy: 0.4570 - val_loss: 1.5965 - val_accuracy: 0.4662\n",
      "Epoch 25/100\n",
      "1563/1563 [==============================] - 9s 6ms/step - loss: 1.6111 - accuracy: 0.4521 - val_loss: 1.5770 - val_accuracy: 0.4732\n",
      "Epoch 26/100\n",
      "1563/1563 [==============================] - 8s 5ms/step - loss: 1.6154 - accuracy: 0.4517 - val_loss: 1.5713 - val_accuracy: 0.4773\n",
      "Epoch 27/100\n",
      "1563/1563 [==============================] - 8s 5ms/step - loss: 1.6105 - accuracy: 0.4548 - val_loss: 1.5821 - val_accuracy: 0.4767\n",
      "Epoch 28/100\n",
      "1563/1563 [==============================] - 9s 6ms/step - loss: 1.6072 - accuracy: 0.4554 - val_loss: 1.6073 - val_accuracy: 0.4604\n",
      "Epoch 29/100\n",
      "1563/1563 [==============================] - 9s 6ms/step - loss: 1.6081 - accuracy: 0.4551 - val_loss: 1.5731 - val_accuracy: 0.4722\n",
      "Epoch 30/100\n",
      "1563/1563 [==============================] - 8s 5ms/step - loss: 1.6030 - accuracy: 0.4570 - val_loss: 1.5551 - val_accuracy: 0.4752\n",
      "Epoch 31/100\n",
      "1563/1563 [==============================] - 8s 5ms/step - loss: 1.5992 - accuracy: 0.4600 - val_loss: 1.5935 - val_accuracy: 0.4751\n",
      "Epoch 32/100\n",
      "1563/1563 [==============================] - 8s 5ms/step - loss: 1.6040 - accuracy: 0.4594 - val_loss: 1.5825 - val_accuracy: 0.4701\n",
      "Epoch 33/100\n",
      "1563/1563 [==============================] - 8s 5ms/step - loss: 1.5969 - accuracy: 0.4603 - val_loss: 1.5692 - val_accuracy: 0.4739\n",
      "Epoch 34/100\n",
      "1563/1563 [==============================] - 9s 6ms/step - loss: 1.5977 - accuracy: 0.4581 - val_loss: 1.5778 - val_accuracy: 0.4678\n",
      "Epoch 35/100\n",
      "1563/1563 [==============================] - 9s 6ms/step - loss: 1.5957 - accuracy: 0.4611 - val_loss: 1.5582 - val_accuracy: 0.4770\n",
      "Epoch 36/100\n",
      "1563/1563 [==============================] - 9s 5ms/step - loss: 1.5891 - accuracy: 0.4648 - val_loss: 1.5682 - val_accuracy: 0.4799\n",
      "Epoch 37/100\n",
      "1563/1563 [==============================] - 8s 5ms/step - loss: 1.5911 - accuracy: 0.4636 - val_loss: 1.5452 - val_accuracy: 0.4845\n",
      "Epoch 38/100\n",
      "1563/1563 [==============================] - 9s 6ms/step - loss: 1.5951 - accuracy: 0.4632 - val_loss: 1.5435 - val_accuracy: 0.4821\n",
      "Epoch 39/100\n",
      "1563/1563 [==============================] - 8s 5ms/step - loss: 1.6009 - accuracy: 0.4599 - val_loss: 1.5732 - val_accuracy: 0.4776\n",
      "Epoch 40/100\n",
      "1563/1563 [==============================] - 8s 5ms/step - loss: 1.5892 - accuracy: 0.4652 - val_loss: 1.5645 - val_accuracy: 0.4717\n",
      "Epoch 41/100\n",
      "1563/1563 [==============================] - 9s 6ms/step - loss: 1.5955 - accuracy: 0.4633 - val_loss: 1.5467 - val_accuracy: 0.4769\n",
      "Epoch 42/100\n",
      "1563/1563 [==============================] - 9s 6ms/step - loss: 1.5882 - accuracy: 0.4670 - val_loss: 1.5626 - val_accuracy: 0.4735\n",
      "Epoch 43/100\n",
      "1563/1563 [==============================] - 8s 5ms/step - loss: 1.5850 - accuracy: 0.4685 - val_loss: 1.6161 - val_accuracy: 0.4502\n",
      "Epoch 44/100\n",
      "1563/1563 [==============================] - 9s 6ms/step - loss: 1.5877 - accuracy: 0.4611 - val_loss: 1.5701 - val_accuracy: 0.4745\n",
      "Epoch 45/100\n",
      "1563/1563 [==============================] - 9s 6ms/step - loss: 1.5886 - accuracy: 0.4678 - val_loss: 1.5741 - val_accuracy: 0.4694\n",
      "Epoch 46/100\n",
      "1563/1563 [==============================] - 8s 5ms/step - loss: 1.5862 - accuracy: 0.4658 - val_loss: 1.5766 - val_accuracy: 0.4709\n",
      "Epoch 47/100\n",
      "1563/1563 [==============================] - 9s 6ms/step - loss: 1.5860 - accuracy: 0.4651 - val_loss: 1.5762 - val_accuracy: 0.4852\n",
      "Epoch 48/100\n",
      "1563/1563 [==============================] - 9s 6ms/step - loss: 1.5841 - accuracy: 0.4679 - val_loss: 1.5449 - val_accuracy: 0.4954\n",
      "Epoch 49/100\n",
      "1563/1563 [==============================] - 8s 5ms/step - loss: 1.5892 - accuracy: 0.4667 - val_loss: 1.5394 - val_accuracy: 0.4881\n",
      "Epoch 50/100\n",
      "1563/1563 [==============================] - 9s 6ms/step - loss: 1.5824 - accuracy: 0.4695 - val_loss: 1.5393 - val_accuracy: 0.4897\n",
      "Epoch 51/100\n",
      "1563/1563 [==============================] - 8s 5ms/step - loss: 1.5824 - accuracy: 0.4683 - val_loss: 1.5506 - val_accuracy: 0.4850\n",
      "Epoch 52/100\n",
      "1563/1563 [==============================] - 8s 5ms/step - loss: 1.5744 - accuracy: 0.4718 - val_loss: 1.5490 - val_accuracy: 0.4892\n",
      "Epoch 53/100\n",
      "1563/1563 [==============================] - 8s 5ms/step - loss: 1.5811 - accuracy: 0.4677 - val_loss: 1.5676 - val_accuracy: 0.4740\n",
      "Epoch 54/100\n",
      "1563/1563 [==============================] - 9s 6ms/step - loss: 1.5919 - accuracy: 0.4682 - val_loss: 1.5357 - val_accuracy: 0.4929\n",
      "Epoch 55/100\n",
      "1563/1563 [==============================] - 8s 5ms/step - loss: 1.5940 - accuracy: 0.4639 - val_loss: 1.5420 - val_accuracy: 0.4875\n",
      "Epoch 56/100\n",
      "1563/1563 [==============================] - 8s 5ms/step - loss: 1.5848 - accuracy: 0.4694 - val_loss: 1.5838 - val_accuracy: 0.4723\n",
      "Epoch 57/100\n",
      "1563/1563 [==============================] - 8s 5ms/step - loss: 1.5874 - accuracy: 0.4659 - val_loss: 1.6021 - val_accuracy: 0.4570\n",
      "Epoch 58/100\n",
      "1563/1563 [==============================] - 9s 5ms/step - loss: 1.5750 - accuracy: 0.4701 - val_loss: 1.5499 - val_accuracy: 0.4846\n",
      "Epoch 59/100\n",
      "1563/1563 [==============================] - 8s 5ms/step - loss: 1.5790 - accuracy: 0.4692 - val_loss: 1.5694 - val_accuracy: 0.4830\n",
      "Epoch 60/100\n",
      "1563/1563 [==============================] - 8s 5ms/step - loss: 1.5787 - accuracy: 0.4698 - val_loss: 1.5493 - val_accuracy: 0.4774\n",
      "Epoch 61/100\n",
      "1563/1563 [==============================] - 9s 6ms/step - loss: 1.5791 - accuracy: 0.4691 - val_loss: 1.5641 - val_accuracy: 0.4785\n",
      "Epoch 62/100\n",
      "1563/1563 [==============================] - 8s 5ms/step - loss: 1.5828 - accuracy: 0.4677 - val_loss: 1.5751 - val_accuracy: 0.4689\n",
      "Epoch 63/100\n",
      "1563/1563 [==============================] - 9s 6ms/step - loss: 1.5831 - accuracy: 0.4668 - val_loss: 1.5444 - val_accuracy: 0.4866\n",
      "Epoch 64/100\n",
      "1563/1563 [==============================] - 9s 6ms/step - loss: 1.5817 - accuracy: 0.4681 - val_loss: 1.5662 - val_accuracy: 0.4771\n",
      "Epoch 65/100\n",
      "1563/1563 [==============================] - 8s 5ms/step - loss: 1.5787 - accuracy: 0.4694 - val_loss: 1.6176 - val_accuracy: 0.4571\n",
      "Epoch 66/100\n",
      "1563/1563 [==============================] - 8s 5ms/step - loss: 1.5740 - accuracy: 0.4734 - val_loss: 1.5550 - val_accuracy: 0.4801\n",
      "Epoch 67/100\n",
      "1563/1563 [==============================] - 9s 6ms/step - loss: 1.5792 - accuracy: 0.4704 - val_loss: 1.5171 - val_accuracy: 0.4963\n",
      "Epoch 68/100\n",
      "1563/1563 [==============================] - 8s 5ms/step - loss: 1.5759 - accuracy: 0.4708 - val_loss: 1.5216 - val_accuracy: 0.5025\n",
      "Epoch 69/100\n",
      "1563/1563 [==============================] - 9s 5ms/step - loss: 1.5777 - accuracy: 0.4719 - val_loss: 1.5467 - val_accuracy: 0.4840\n",
      "Epoch 70/100\n",
      "1563/1563 [==============================] - 8s 5ms/step - loss: 1.5738 - accuracy: 0.4743 - val_loss: 1.5276 - val_accuracy: 0.4994\n",
      "Epoch 71/100\n",
      "1563/1563 [==============================] - 8s 5ms/step - loss: 1.5762 - accuracy: 0.4721 - val_loss: 1.5320 - val_accuracy: 0.4925\n",
      "Epoch 72/100\n",
      "1563/1563 [==============================] - 8s 5ms/step - loss: 1.5696 - accuracy: 0.4743 - val_loss: 1.5846 - val_accuracy: 0.4747\n",
      "Epoch 73/100\n",
      "1563/1563 [==============================] - 8s 5ms/step - loss: 1.5831 - accuracy: 0.4711 - val_loss: 1.5576 - val_accuracy: 0.4815\n",
      "Epoch 74/100\n",
      "1563/1563 [==============================] - 8s 5ms/step - loss: 1.5758 - accuracy: 0.4720 - val_loss: 1.5245 - val_accuracy: 0.4946\n",
      "Epoch 75/100\n",
      "1563/1563 [==============================] - 9s 5ms/step - loss: 1.5700 - accuracy: 0.4750 - val_loss: 1.5469 - val_accuracy: 0.4883\n",
      "Epoch 76/100\n",
      "1563/1563 [==============================] - 9s 6ms/step - loss: 1.5713 - accuracy: 0.4744 - val_loss: 1.5505 - val_accuracy: 0.4781\n",
      "Epoch 77/100\n",
      "1563/1563 [==============================] - 8s 5ms/step - loss: 1.5723 - accuracy: 0.4736 - val_loss: 1.5303 - val_accuracy: 0.4961\n",
      "Epoch 78/100\n",
      "1563/1563 [==============================] - 8s 5ms/step - loss: 1.5697 - accuracy: 0.4747 - val_loss: 1.5521 - val_accuracy: 0.4779\n",
      "Epoch 79/100\n",
      "1563/1563 [==============================] - 9s 6ms/step - loss: 1.5672 - accuracy: 0.4742 - val_loss: 1.5215 - val_accuracy: 0.4941\n",
      "Epoch 80/100\n",
      "1563/1563 [==============================] - 9s 6ms/step - loss: 1.5684 - accuracy: 0.4739 - val_loss: 1.5306 - val_accuracy: 0.4908\n",
      "Epoch 81/100\n",
      "1563/1563 [==============================] - 8s 5ms/step - loss: 1.5710 - accuracy: 0.4743 - val_loss: 1.5744 - val_accuracy: 0.4844\n",
      "Epoch 82/100\n",
      "1563/1563 [==============================] - 9s 6ms/step - loss: 1.5721 - accuracy: 0.4757 - val_loss: 1.5862 - val_accuracy: 0.4725\n",
      "Epoch 83/100\n",
      "1563/1563 [==============================] - 9s 6ms/step - loss: 1.5691 - accuracy: 0.4752 - val_loss: 1.5413 - val_accuracy: 0.4910\n",
      "Epoch 84/100\n",
      "1563/1563 [==============================] - 9s 5ms/step - loss: 1.5705 - accuracy: 0.4743 - val_loss: 1.5552 - val_accuracy: 0.4779\n",
      "Epoch 85/100\n",
      "1563/1563 [==============================] - 9s 6ms/step - loss: 1.5687 - accuracy: 0.4739 - val_loss: 1.5425 - val_accuracy: 0.4918\n",
      "Epoch 86/100\n",
      "1563/1563 [==============================] - 9s 6ms/step - loss: 1.5673 - accuracy: 0.4777 - val_loss: 1.5606 - val_accuracy: 0.4801\n",
      "Epoch 87/100\n",
      "1563/1563 [==============================] - 9s 6ms/step - loss: 1.5698 - accuracy: 0.4734 - val_loss: 1.5646 - val_accuracy: 0.4811\n",
      "Epoch 88/100\n",
      "1563/1563 [==============================] - 8s 5ms/step - loss: 1.5688 - accuracy: 0.4762 - val_loss: 1.5366 - val_accuracy: 0.4984\n",
      "Epoch 89/100\n",
      "1563/1563 [==============================] - 9s 6ms/step - loss: 1.5732 - accuracy: 0.4729 - val_loss: 1.6008 - val_accuracy: 0.4598\n",
      "Epoch 90/100\n",
      "1563/1563 [==============================] - 9s 6ms/step - loss: 1.5759 - accuracy: 0.4748 - val_loss: 1.5571 - val_accuracy: 0.4790\n",
      "Epoch 91/100\n",
      "1563/1563 [==============================] - 8s 5ms/step - loss: 1.5625 - accuracy: 0.4779 - val_loss: 1.5388 - val_accuracy: 0.4912\n",
      "Epoch 92/100\n",
      "1563/1563 [==============================] - 8s 5ms/step - loss: 1.5676 - accuracy: 0.4743 - val_loss: 1.5511 - val_accuracy: 0.4795\n",
      "Epoch 93/100\n",
      "1563/1563 [==============================] - 9s 6ms/step - loss: 1.5623 - accuracy: 0.4781 - val_loss: 1.5628 - val_accuracy: 0.4770\n",
      "Epoch 94/100\n",
      "1563/1563 [==============================] - 8s 5ms/step - loss: 1.5704 - accuracy: 0.4722 - val_loss: 1.5517 - val_accuracy: 0.4852\n",
      "Epoch 95/100\n",
      "1563/1563 [==============================] - 8s 5ms/step - loss: 1.5629 - accuracy: 0.4746 - val_loss: 1.5689 - val_accuracy: 0.4811\n",
      "Epoch 96/100\n",
      "1563/1563 [==============================] - 8s 5ms/step - loss: 1.5681 - accuracy: 0.4745 - val_loss: 1.5221 - val_accuracy: 0.4960\n",
      "Epoch 97/100\n",
      "1563/1563 [==============================] - 9s 6ms/step - loss: 1.5642 - accuracy: 0.4803 - val_loss: 1.5402 - val_accuracy: 0.4958\n",
      "Epoch 98/100\n",
      "1563/1563 [==============================] - 8s 5ms/step - loss: 1.5701 - accuracy: 0.4766 - val_loss: 1.5587 - val_accuracy: 0.4834\n",
      "Epoch 99/100\n",
      "1563/1563 [==============================] - 9s 6ms/step - loss: 1.5626 - accuracy: 0.4774 - val_loss: 1.5541 - val_accuracy: 0.4834\n",
      "Epoch 100/100\n",
      "1563/1563 [==============================] - 9s 6ms/step - loss: 1.5645 - accuracy: 0.4784 - val_loss: 1.5398 - val_accuracy: 0.4890\n"
     ]
    }
   ],
   "source": [
    "# # compile & train\n",
    "# fnn_model.compile(loss='categorical_crossentropy',\n",
    "#               optimizer=opt,\n",
    "#               metrics=['accuracy'])\n",
    "\n",
    "# fnn_history = fnn_model.fit(x_train, y_train_cat,\n",
    "#               epochs=epochs,\n",
    "#               validation_data=(x_test, y_test_cat),\n",
    "#               shuffle=True)\n",
    "\n"
   ]
  },
  {
   "cell_type": "code",
   "execution_count": 107,
   "metadata": {
    "id": "9agtRMx4Vg7H"
   },
   "outputs": [],
   "source": [
    "# # save the model\n",
    "# model.save('./model_fnn.h5')\n",
    "# pd.DataFrame(history.history).to_csv('./history_fnn.csv')"
   ]
  },
  {
   "cell_type": "markdown",
   "metadata": {},
   "source": [
    "## use the model"
   ]
  },
  {
   "cell_type": "markdown",
   "metadata": {},
   "source": [
    "read the model"
   ]
  },
  {
   "cell_type": "code",
   "execution_count": null,
   "metadata": {
    "scrolled": true
   },
   "outputs": [],
   "source": []
  },
  {
   "cell_type": "markdown",
   "metadata": {},
   "source": [
    "the history of the model"
   ]
  },
  {
   "cell_type": "code",
   "execution_count": null,
   "metadata": {},
   "outputs": [],
   "source": [
    "import pandas as pd\n",
    "pd.set_option('display.max_rows', None)\n",
    "pd.set_option('display.max_columns', None)\n",
    "pd.set_option('display.width', None)"
   ]
  },
  {
   "cell_type": "markdown",
   "metadata": {},
   "source": [
    "pred some values"
   ]
  },
  {
   "cell_type": "code",
   "execution_count": null,
   "metadata": {},
   "outputs": [],
   "source": []
  }
 ],
 "metadata": {
  "accelerator": "GPU",
  "colab": {
   "provenance": []
  },
  "gpuClass": "standard",
  "kernelspec": {
   "display_name": "Python 3 (ipykernel)",
   "language": "python",
   "name": "python3"
  },
  "language_info": {
   "codemirror_mode": {
    "name": "ipython",
    "version": 3
   },
   "file_extension": ".py",
   "mimetype": "text/x-python",
   "name": "python",
   "nbconvert_exporter": "python",
   "pygments_lexer": "ipython3",
   "version": "3.11.5"
  }
 },
 "nbformat": 4,
 "nbformat_minor": 4
}

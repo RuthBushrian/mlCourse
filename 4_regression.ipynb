{
 "cells": [
  {
   "cell_type": "markdown",
   "metadata": {
    "id": "KyoRgvtZK6hy"
   },
   "source": [
    "\n",
    "# Linear Regression\n"
   ]
  },
  {
   "cell_type": "markdown",
   "metadata": {},
   "source": [
    "import libraries"
   ]
  },
  {
   "cell_type": "code",
   "execution_count": 1,
   "metadata": {
    "id": "QM1avmkDK6h3"
   },
   "outputs": [],
   "source": [
    "import matplotlib.pyplot as plt\n",
    "import numpy as np\n",
    "import pandas as pd\n",
    "from sklearn import linear_model\n",
    "%matplotlib inline"
   ]
  },
  {
   "cell_type": "markdown",
   "metadata": {
    "id": "aW0Q42J7K6h5"
   },
   "source": [
    "In this section we will learn how to train, use and estimate the *linear regression*. We will work with 2 datasets\n",
    "* healthexp - for the simple 1-parameter `X` linear regression\n",
    "* diamonds - for the more sofisticated models, involving multiple parameter/polynomial regression\n"
   ]
  },
  {
   "cell_type": "markdown",
   "metadata": {
    "id": "5bOZFg51K6h7"
   },
   "source": [
    "## Life Expectancy vs. Spendings\n",
    "\n",
    "Let's load the data set from the standard set of Seaborn package\n"
   ]
  },
  {
   "cell_type": "code",
   "execution_count": 2,
   "metadata": {
    "id": "GNKYAscxK6h8",
    "outputId": "e602c516-c50c-453a-c1fd-6e567ccf7a51"
   },
   "outputs": [
    {
     "data": {
      "text/html": [
       "<div>\n",
       "<style scoped>\n",
       "    .dataframe tbody tr th:only-of-type {\n",
       "        vertical-align: middle;\n",
       "    }\n",
       "\n",
       "    .dataframe tbody tr th {\n",
       "        vertical-align: top;\n",
       "    }\n",
       "\n",
       "    .dataframe thead th {\n",
       "        text-align: right;\n",
       "    }\n",
       "</style>\n",
       "<table border=\"1\" class=\"dataframe\">\n",
       "  <thead>\n",
       "    <tr style=\"text-align: right;\">\n",
       "      <th></th>\n",
       "      <th>Year</th>\n",
       "      <th>Country</th>\n",
       "      <th>Spending_USD</th>\n",
       "      <th>Life_Expectancy</th>\n",
       "    </tr>\n",
       "  </thead>\n",
       "  <tbody>\n",
       "    <tr>\n",
       "      <th>0</th>\n",
       "      <td>1970</td>\n",
       "      <td>Germany</td>\n",
       "      <td>252.311</td>\n",
       "      <td>70.6</td>\n",
       "    </tr>\n",
       "    <tr>\n",
       "      <th>1</th>\n",
       "      <td>1970</td>\n",
       "      <td>France</td>\n",
       "      <td>192.143</td>\n",
       "      <td>72.2</td>\n",
       "    </tr>\n",
       "    <tr>\n",
       "      <th>2</th>\n",
       "      <td>1970</td>\n",
       "      <td>Great Britain</td>\n",
       "      <td>123.993</td>\n",
       "      <td>71.9</td>\n",
       "    </tr>\n",
       "    <tr>\n",
       "      <th>3</th>\n",
       "      <td>1970</td>\n",
       "      <td>Japan</td>\n",
       "      <td>150.437</td>\n",
       "      <td>72.0</td>\n",
       "    </tr>\n",
       "    <tr>\n",
       "      <th>4</th>\n",
       "      <td>1970</td>\n",
       "      <td>USA</td>\n",
       "      <td>326.961</td>\n",
       "      <td>70.9</td>\n",
       "    </tr>\n",
       "  </tbody>\n",
       "</table>\n",
       "</div>"
      ],
      "text/plain": [
       "   Year        Country  Spending_USD  Life_Expectancy\n",
       "0  1970        Germany       252.311             70.6\n",
       "1  1970         France       192.143             72.2\n",
       "2  1970  Great Britain       123.993             71.9\n",
       "3  1970          Japan       150.437             72.0\n",
       "4  1970            USA       326.961             70.9"
      ]
     },
     "execution_count": 2,
     "metadata": {},
     "output_type": "execute_result"
    }
   ],
   "source": [
    "# Those who have internet connection can load the data like this:\n",
    "#df = sns.load_dataset('healthexp')\n",
    "\n",
    "df = pd.read_csv('./data/healthexp.csv')\n",
    "df.head(5)"
   ]
  },
  {
   "cell_type": "markdown",
   "metadata": {
    "id": "QvmEBPvnK6h-"
   },
   "source": [
    "The simplest model for such predictions is the linear model\n",
    "$$\n",
    "\\widehat{y} = ax + b\n",
    "$$\n"
   ]
  },
  {
   "cell_type": "code",
   "execution_count": 3,
   "metadata": {
    "id": "dIlPvuv3K6h_",
    "outputId": "f25e9281-8769-4b12-b875-28e13508a3a3"
   },
   "outputs": [
    {
     "data": {
      "text/plain": [
       "LinearRegression()"
      ]
     },
     "execution_count": 3,
     "metadata": {},
     "output_type": "execute_result"
    }
   ],
   "source": [
    "X = df.loc[df.Country=='Canada', 'Spending_USD'].values.reshape((-1, 1))\n",
    "y = df.loc[df.Country=='Canada', 'Life_Expectancy'].values\n",
    "lin_model = linear_model.LinearRegression()\n",
    "lin_model.fit(X, y)"
   ]
  },
  {
   "cell_type": "markdown",
   "metadata": {
    "id": "JdoQRp_TK6iA"
   },
   "source": [
    "Let's look at the plots"
   ]
  },
  {
   "cell_type": "code",
   "execution_count": 4,
   "metadata": {
    "id": "bjfDfSi6K6iB",
    "outputId": "7e7da4f1-a18f-43cb-979c-0f49dd7b2540"
   },
   "outputs": [
    {
     "data": {
      "text/plain": [
       "Text(0.5, 1.0, 'Country: Canada')"
      ]
     },
     "execution_count": 4,
     "metadata": {},
     "output_type": "execute_result"
    },
    {
     "data": {
      "image/png": "[encoded data removed]",
      "text/plain": [
       "<Figure size 500x500 with 1 Axes>"
      ]
     },
     "metadata": {},
     "output_type": "display_data"
    }
   ],
   "source": [
    "plt.figure(figsize=(5, 5))\n",
    "plt.plot(X, y, '.k')\n",
    "plt.plot(X, lin_model.predict(X))\n",
    "plt.xlabel('Spending ($)')\n",
    "plt.ylabel('Life Expectancy (years)')\n",
    "plt.title('Country: Canada')"
   ]
  },
  {
   "cell_type": "markdown",
   "metadata": {},
   "source": [
    "#### predict"
   ]
  },
  {
   "cell_type": "markdown",
   "metadata": {
    "id": "S5rxSQYdK6iD"
   },
   "source": [
    "We can easily get the parameters of the model in the following way:"
   ]
  },
  {
   "cell_type": "code",
   "execution_count": 5,
   "metadata": {
    "id": "_i6ubsCOK6iF",
    "outputId": "0f40b79d-f531-405f-96a0-c5f29c02749b"
   },
   "outputs": [
    {
     "name": "stdout",
     "output_type": "stream",
     "text": [
      "The parameters of the model y=ax+b are\n",
      "a=0.0015828050279988568\n",
      "b=74.45575471973685\n"
     ]
    }
   ],
   "source": [
    "print('The parameters of the model y=ax+b are')\n",
    "print(f'a={lin_model.coef_[0]}')\n",
    "print(f'b={lin_model.intercept_}')"
   ]
  },
  {
   "cell_type": "markdown",
   "metadata": {},
   "source": [
    "How we can use the model? Suppose that given the data we want to estimate how much will be the Life expectancy for the Spendings of $1000$? The answer is we plug $x=1000$ into the model that we trained on the data and get the predicted answer"
   ]
  },
  {
   "cell_type": "code",
   "execution_count": 6,
   "metadata": {
    "jupyter": {
     "outputs_hidden": false
    }
   },
   "outputs": [
    {
     "name": "stdout",
     "output_type": "stream",
     "text": [
      "The Life expectancy for x=1000 is [76.03855975]\n",
      "The Life expectancy for x=100000 is [232.73625752]\n"
     ]
    }
   ],
   "source": [
    "def get_prediction(model, x):\n",
    "    return model.coef_[0] * x + model.intercept_\n",
    "\n",
    "print(f'The Life expectancy for x=1000 is {lin_model.predict([[1000]])}')\n",
    "print(f'The Life expectancy for x=100000 is {lin_model.predict([[100000]])}')"
   ]
  },
  {
   "cell_type": "markdown",
   "metadata": {},
   "source": [
    "For $1000$ the prediction is good. However, the model predicts that for $20000$, Life expectancy will be 139 years (!) - it's improssible. What is the exaplnation? The answer is: extrapolation is very dangerous\n"
   ]
  },
  {
   "cell_type": "markdown",
   "metadata": {},
   "source": [
    "#### MSE"
   ]
  },
  {
   "cell_type": "code",
   "execution_count": 7,
   "metadata": {
    "jupyter": {
     "outputs_hidden": false
    }
   },
   "outputs": [
    {
     "name": "stdout",
     "output_type": "stream",
     "text": [
      "MSE=0.416\n"
     ]
    }
   ],
   "source": [
    "from sklearn import metrics\n",
    "\n",
    "y_pred = lin_model.predict(X)\n",
    "\n",
    "print(f'MSE={np.round(metrics.mean_squared_error(y, y_pred), 3)}')\n"
   ]
  },
  {
   "cell_type": "markdown",
   "metadata": {},
   "source": [
    "implementation of the function *mse* \n",
    "$$\n",
    "MSE = \\frac{1}{n} \\sum_{i=1}^n{(y-\\widehat{y})^2}\n",
    "$$"
   ]
  },
  {
   "cell_type": "code",
   "execution_count": 8,
   "metadata": {
    "jupyter": {
     "outputs_hidden": false
    }
   },
   "outputs": [
    {
     "name": "stdout",
     "output_type": "stream",
     "text": [
      "0.41555451352034783\n"
     ]
    }
   ],
   "source": [
    "def mse(y_original, y_predicted):\n",
    "    # Your code goes here\n",
    "    return 0\n",
    "\n",
    "print(metrics.mean_squared_error(y, y_pred) - mse(y, y_pred))"
   ]
  },
  {
   "cell_type": "markdown",
   "metadata": {},
   "source": [
    "#### R^2"
   ]
  },
  {
   "cell_type": "code",
   "execution_count": 9,
   "metadata": {},
   "outputs": [
    {
     "name": "stdout",
     "output_type": "stream",
     "text": [
      "R^2: 0.9321\n"
     ]
    }
   ],
   "source": [
    "print(\"R^2: {:.4f}\".format(lin_model.score(X, y)))"
   ]
  },
  {
   "cell_type": "markdown",
   "metadata": {},
   "source": [
    "## Polynomial regression\n",
    "\n",
    "We would like to extend our simple model to quadritic model\n",
    "$$\n",
    "y = a x^2 + b x + c\n",
    "$$\n",
    "\n",
    "In order to use polynomial regression of order 2, we just add the square of the *Spendings* feature to our original table. We will use the following syntax of Pandas to do it\n",
    "```\n",
    "df['Spending_USD_Square'] = df['Spending_USD']**2\n",
    "```"
   ]
  },
  {
   "cell_type": "code",
   "execution_count": 10,
   "metadata": {
    "jupyter": {
     "outputs_hidden": false
    }
   },
   "outputs": [
    {
     "data": {
      "text/plain": [
       "LinearRegression()"
      ]
     },
     "execution_count": 10,
     "metadata": {},
     "output_type": "execute_result"
    }
   ],
   "source": [
    "df['Spending_USD_Square'] = df['Spending_USD']**2\n",
    "X2 = df.loc[df.Country=='Canada', ['Spending_USD', 'Spending_USD_Square']].values\n",
    "y = df.loc[df.Country=='Canada', 'Life_Expectancy'].values\n",
    "lin_model = linear_model.LinearRegression()\n",
    "lin_model.fit(X2, y)"
   ]
  },
  {
   "cell_type": "markdown",
   "metadata": {},
   "source": [
    "#### calculate r^2"
   ]
  },
  {
   "cell_type": "code",
   "execution_count": 11,
   "metadata": {},
   "outputs": [
    {
     "name": "stdout",
     "output_type": "stream",
     "text": [
      "R^2: 0.9921\n"
     ]
    }
   ],
   "source": [
    "print(\"R^2: {:.4f}\".format(lin_model.score(X2, y)))"
   ]
  },
  {
   "cell_type": "markdown",
   "metadata": {},
   "source": [
    "#### adjusted $R^2$\n",
    "the adjusted $R^2$ is calculated according to\n",
    "$$\n",
    "\\hat{R}^2 = 1 - (1 - R^2) \\frac{n-1}{n-p-1},\n",
    "$$\n",
    "where $n$ - is the number of samples, and $p$ is the number of independent variables. Let's calculate it from the usual $R^2$:"
   ]
  },
  {
   "cell_type": "code",
   "execution_count": 12,
   "metadata": {
    "jupyter": {
     "outputs_hidden": false
    }
   },
   "outputs": [
    {
     "name": "stdout",
     "output_type": "stream",
     "text": [
      "Adjusted R^2=0.9917539081280502\n"
     ]
    }
   ],
   "source": [
    "def adjusted_r_square(model, X, y):\n",
    "    coefficient = (X.shape[0]-1) / (X.shape[0]-X.shape[1]-1)\n",
    "    return (1 - (1-model.score(X, y)) * coefficient)\n",
    "\n",
    "print(f'Adjusted R^2={adjusted_r_square(lin_model, X2, y)}')"
   ]
  },
  {
   "cell_type": "markdown",
   "metadata": {},
   "source": [
    "#### predict\n",
    "\n",
    "Implement the function *predict_model*, that given the model and the variable returns the predicted Life expectancy\n",
    "Please, note that we printed the correct predicted values that your function should return\n",
    "\n",
    "Why the expected value for the $x=15000$ less than for $x=1000$?"
   ]
  },
  {
   "cell_type": "code",
   "execution_count": 13,
   "metadata": {
    "jupyter": {
     "outputs_hidden": false
    }
   },
   "outputs": [
    {
     "name": "stdout",
     "output_type": "stream",
     "text": [
      "For x=1000, the model predicts 0\n",
      "For x=5000, the model predicts 0\n",
      "For x=15000, the model predicts 0\n"
     ]
    }
   ],
   "source": [
    "def predict_model(model, x):\n",
    "    # Your code goes here\n",
    "    return 0\n",
    "\n",
    "print(f'For x=1000, the model predicts {predict_model(lin_model, 1000)}')\n",
    "print(f'For x=5000, the model predicts {predict_model(lin_model, 5000)}')\n",
    "print(f'For x=15000, the model predicts {predict_model(lin_model, 15000)}')"
   ]
  },
  {
   "cell_type": "markdown",
   "metadata": {},
   "source": [
    "Let's see what about other metrics"
   ]
  },
  {
   "cell_type": "code",
   "execution_count": 14,
   "metadata": {
    "jupyter": {
     "outputs_hidden": false
    }
   },
   "outputs": [
    {
     "data": {
      "text/plain": [
       "Text(0.5, 1.0, 'Country: Canada')"
      ]
     },
     "execution_count": 14,
     "metadata": {},
     "output_type": "execute_result"
    },
    {
     "data": {
      "image/png": "[encoded data removed]",
      "text/plain": [
       "<Figure size 640x480 with 1 Axes>"
      ]
     },
     "metadata": {},
     "output_type": "display_data"
    }
   ],
   "source": [
    "y_pred = lin_model.predict(X2)\n",
    "\n",
    "plt.scatter(X2[:, 0], y, c= 'k')\n",
    "plt.plot(X2[:, 0], lin_model.predict(X2))\n",
    "plt.xlabel('Spending ($)')\n",
    "plt.ylabel('Life Expectancy (years)')\n",
    "plt.title('Country: Canada')"
   ]
  }
 ],
 "metadata": {
  "colab": {
   "provenance": []
  },
  "kernelspec": {
   "display_name": "Python 3 (ipykernel)",
   "language": "python",
   "name": "python3"
  },
  "language_info": {
   "codemirror_mode": {
    "name": "ipython",
    "version": 3
   },
   "file_extension": ".py",
   "mimetype": "text/x-python",
   "name": "python",
   "nbconvert_exporter": "python",
   "pygments_lexer": "ipython3",
   "version": "3.7.4"
  }
 },
 "nbformat": 4,
 "nbformat_minor": 4
}
